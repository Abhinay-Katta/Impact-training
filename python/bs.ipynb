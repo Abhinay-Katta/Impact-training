{
 "cells": [
  {
   "cell_type": "code",
   "execution_count": null,
   "metadata": {},
   "outputs": [],
   "source": [
    "x=1\n",
    "count=0\n",
    "while(x<=60):\n",
    "    for i in range(1,x+1):\n",
    "        if(x%i==0):\n",
    "            print(i,end=',')\n",
    "            count+=1\n",
    "    x+=1\n",
    "    print('\\n')"
   ]
  },
  {
   "cell_type": "code",
   "execution_count": null,
   "metadata": {},
   "outputs": [],
   "source": [
    "def fact(x:int)->int:\n",
    "    from math import factorial \n",
    "    return factorial(x)\n",
    "# fact(5)\n",
    "def str_num(num:int)->bool:\n",
    "    lis=[]\n",
    "    for i in str(num):\n",
    "        lis.append(fact(int((i))))\n",
    "        if(sum(lis)==num):\n",
    "            return True\n",
    "    return False\n",
    "num=input()\n",
    "str_num(int(num))"
   ]
  },
  {
   "attachments": {},
   "cell_type": "markdown",
   "metadata": {},
   "source": [
    "### a \"strong number\" is a number that is equal to the sum of factorials of its digits.\n",
    "145=1!+4!=5!"
   ]
  },
  {
   "cell_type": "code",
   "execution_count": null,
   "metadata": {},
   "outputs": [],
   "source": [
    "# number where sum of factorial of digits is equal to number itself.\n",
    "print(\"*\"*3)"
   ]
  },
  {
   "cell_type": "code",
   "execution_count": null,
   "metadata": {},
   "outputs": [],
   "source": [
    "# 6-1,2,3\n",
    "import os\n",
    "os.system('')"
   ]
  },
  {
   "cell_type": "code",
   "execution_count": null,
   "metadata": {},
   "outputs": [],
   "source": [
    "'''\n",
    " *****\n",
    "*******\n",
    " *****\n",
    "  ***\n",
    "   *\n",
    "'''\n",
    "\n",
    "\n",
    "print('', '*'*5, ' ')\n",
    "print('*'*7, ' ')\n",
    "print('','*'*5)\n",
    "print(' ','*'*3)\n",
    "print('  ','*'*1)"
   ]
  },
  {
   "cell_type": "code",
   "execution_count": null,
   "metadata": {},
   "outputs": [],
   "source": [
    "# num=input()\n",
    "# print('')\n",
    "# for i in range(num/2):\n",
    "    \n",
    "    "
   ]
  },
  {
   "cell_type": "code",
   "execution_count": null,
   "metadata": {},
   "outputs": [],
   "source": [
    "for i in range(6):\n",
    "    print('*'*i)"
   ]
  },
  {
   "cell_type": "code",
   "execution_count": null,
   "metadata": {},
   "outputs": [],
   "source": [
    "# for i in range(6):\n",
    "#     print(' ')\n",
    "#     for j in range(6-i):\n",
    "#         print(' '*int(i),end='')\n",
    "#         print('*',end='')\n",
    "#     # print('\\n')\n",
    "#     for j in range():\n",
    "#         print(' '*int*abs(j),end='')\n",
    "#         print('*', end='')\n",
    "#     # print('\\n') "
   ]
  },
  {
   "cell_type": "code",
   "execution_count": null,
   "metadata": {},
   "outputs": [],
   "source": [
    "li =[i for i in range(0,150,3)if i%3==0 ]\n",
    "print(li,end=', ')"
   ]
  },
  {
   "cell_type": "code",
   "execution_count": null,
   "metadata": {},
   "outputs": [],
   "source": [
    "# ==========\n",
    "# def queue():\n",
    "a=ascii(\"₹æēr̥ṭñūīōāśḍṅḥl̥ṣṇ\")\n",
    "print(a)\n",
    "print(a.split('\\\\'))\n",
    "print(ascii('ē'))\n",
    "print((a[3]))\n",
    "# print(str('\\\\'+(a)[2]))\n",
    "# b=['\\\\'+i for i in a]\n",
    "# print('\\\\'+chr(b))"
   ]
  },
  {
   "cell_type": "code",
   "execution_count": null,
   "metadata": {},
   "outputs": [],
   "source": [
    "print(ord('a'))\n",
    "print(chr(97))"
   ]
  },
  {
   "cell_type": "code",
   "execution_count": null,
   "metadata": {},
   "outputs": [],
   "source": [
    "class Queue:\n",
    "    max_sizee=0\n",
    "    def __init__(self,max_size):\n",
    "        self.listt=[]\n",
    "        self.max_size=max_size\n",
    "    def isempty(self):\n",
    "        if(len(self.listt)==0):\n",
    "            return True\n",
    "        return False\n",
    "    def isfull(self):\n",
    "        if(len(self.listt)==self.max_size):\n",
    "            return True\n",
    "        return False\n",
    "    def enqueue(self,item):\n",
    "        self.listt.append(item)\n",
    "        return True\n",
    "    def dequeue(self,pos=0):\n",
    "        return self.listt.pop(pos)\n",
    "    def size(self):\n",
    "        return len(self.listt)\n",
    "    def print_whole_queue(self):\n",
    "        for i in self.listt:\n",
    "            if i ==None:\n",
    "                break\n",
    "            else:\n",
    "                print(i,end=', ')\n",
    "            \n",
    "q=Queue(5)\n",
    "q.enqueue(12)\n",
    "q.enqueue(124)\n",
    "q.enqueue(1245)\n",
    "q.enqueue(1232)\n",
    "q.enqueue(112)\n",
    "q.dequeue()\n",
    "print(q.isfull())\n",
    "print(q.isempty())\n",
    "print(q.print_whole_queue())"
   ]
  },
  {
   "cell_type": "code",
   "execution_count": null,
   "metadata": {},
   "outputs": [],
   "source": [
    "print(type((23.324432).__round__(4)))\n",
    "print(type(f\"{23.43232:.2f}\"))\n"
   ]
  },
  {
   "cell_type": "code",
   "execution_count": null,
   "metadata": {},
   "outputs": [],
   "source": [
    "class Stack:\n",
    "    def __init__(self,size) -> None:\n",
    "        self.max_size=size\n",
    "        self.items=[]\n",
    "    def push(self,item):\n",
    "        if (self.max_size<len(self.items)):\n",
    "            return \"Stack is Full!\"\n",
    "        self.items.append(item)\n",
    "    def pop(self):\n",
    "        if self.isempty():\n",
    "            return \"Stack is Empty!\"\n",
    "        self.items.pop(-1)\n",
    "        \n",
    "    def isfull(self):\n",
    "        if(len(self.items)==self.max_size):\n",
    "            return True\n",
    "        return False\n",
    "    def isempty(self):\n",
    "        if(len(self.items)==0):\n",
    "            return True\n",
    "        return False\n",
    "    def print_stack(self): \n",
    "        for i in self.items:\n",
    "            if i is not None:\n",
    "                print(i,end=', ')\n",
    "            elif i == None:\n",
    "                print('')"
   ]
  },
  {
   "cell_type": "code",
   "execution_count": null,
   "metadata": {},
   "outputs": [],
   "source": [
    "s=Stack(4)\n",
    "s.isempty()"
   ]
  },
  {
   "cell_type": "code",
   "execution_count": null,
   "metadata": {},
   "outputs": [],
   "source": [
    "s.isfull()"
   ]
  },
  {
   "cell_type": "code",
   "execution_count": null,
   "metadata": {},
   "outputs": [],
   "source": [
    "s.push(12)\n",
    "s.push(13)\n",
    "s.push(15)\n",
    "s.push(2342)\n",
    "s.print_stack()\n",
    "# s.__sizeof__(s)"
   ]
  },
  {
   "cell_type": "code",
   "execution_count": null,
   "metadata": {},
   "outputs": [],
   "source": [
    "s.isfull()"
   ]
  },
  {
   "cell_type": "code",
   "execution_count": null,
   "metadata": {},
   "outputs": [],
   "source": [
    "s.print_stack()"
   ]
  },
  {
   "cell_type": "code",
   "execution_count": null,
   "metadata": {},
   "outputs": [],
   "source": [
    "s.pop()"
   ]
  },
  {
   "cell_type": "code",
   "execution_count": null,
   "metadata": {},
   "outputs": [],
   "source": [
    "ads='asadasdsa'\n",
    "print(ads.endswith(' '))"
   ]
  },
  {
   "cell_type": "code",
   "execution_count": null,
   "metadata": {},
   "outputs": [],
   "source": [
    "print(ads.endswith(''))"
   ]
  },
  {
   "cell_type": "code",
   "execution_count": null,
   "metadata": {},
   "outputs": [],
   "source": [
    "a=' asdhg jgh jh '\n",
    "print(a.strip())"
   ]
  },
  {
   "cell_type": "code",
   "execution_count": null,
   "metadata": {},
   "outputs": [],
   "source": [
    "print(a.rstrip())\n"
   ]
  },
  {
   "cell_type": "code",
   "execution_count": null,
   "metadata": {},
   "outputs": [],
   "source": [
    "a=[213,43,543,432,123,234,543,6]\n",
    "def linear_search(array,target)->int:\n",
    "    for i in array:\n",
    "        if i==target:\n",
    "            return array.index(i)\n",
    "    return False\n",
    "linear_search(a,6)\n",
    "# a.index(543)"
   ]
  },
  {
   "cell_type": "code",
   "execution_count": 48,
   "metadata": {},
   "outputs": [
    {
     "name": "stdout",
     "output_type": "stream",
     "text": [
      "[6, 43, 123, 213, 234, 432, 543, 543]\n"
     ]
    }
   ],
   "source": [
    "a = [213, 43, 543, 432, 123, 234, 543, 6]\n",
    "array = sorted(a)\n",
    "print(array)"
   ]
  },
  {
   "cell_type": "code",
   "execution_count": 52,
   "metadata": {},
   "outputs": [],
   "source": [
    "def binary_search(array, first, last, target):\n",
    "    mid=(first+last)//2\n",
    "    if(target<array[mid]):\n",
    "        return binary_search(array, first, mid-1,target)\n",
    "    elif(target>array[mid]):\n",
    "        return binary_search(array,mid+1,last, target)\n",
    "    elif first>last:\n",
    "        return -1\n",
    "    else:\n",
    "        return mid"
   ]
  },
  {
   "cell_type": "code",
   "execution_count": 53,
   "metadata": {},
   "outputs": [
    {
     "data": {
      "text/plain": [
       "4"
      ]
     },
     "execution_count": 53,
     "metadata": {},
     "output_type": "execute_result"
    }
   ],
   "source": [
    "binary_search(array=array,first=0,last=len(array)-1,target=234)"
   ]
  },
  {
   "cell_type": "code",
   "execution_count": null,
   "metadata": {},
   "outputs": [],
   "source": [
    "s=\"s='\"'bab'\"',\"\n",
    "\n",
    "print(s.replace(\",\",\"\").replace(\"s=\",\"\"))\n",
    "\n"
   ]
  },
  {
   "cell_type": "code",
   "execution_count": null,
   "metadata": {},
   "outputs": [],
   "source": [
    "def selection_sort(array)->list:\n",
    "    for i in range(0,len(array)-1):\n",
    "        MIN_INDEX=i\n",
    "        \n",
    "        for j in range(i+1,len(array)):\n",
    "            if(array[j]<array[MIN_INDEX]):\n",
    "                MIN_INDEX=j\n",
    "        array[MIN_INDEX],array[i]=array[i],array[MIN_INDEX]\n",
    "    return array\n",
    "arr=[23,432543,123,543,432,543,4,52344,76,987,534]\n",
    "print(arr.index(min(arr)))\n",
    "print(selection_sort(array=arr))\n"
   ]
  },
  {
   "cell_type": "code",
   "execution_count": null,
   "metadata": {},
   "outputs": [],
   "source": [
    "def bubble_sort(array)->list:\n",
    "    for i in range(0,len(array)):\n",
    "        for j in range(i,len(array)-1):\n",
    "            if(array[j]>array[j+1]):\n",
    "                array[j+1], array[j] = array[j], array[j+1]\n",
    "            \n",
    "    return array\n",
    "\n",
    "print(bubble_sort(array=arr))\n",
    "    "
   ]
  },
  {
   "cell_type": "code",
   "execution_count": null,
   "metadata": {},
   "outputs": [],
   "source": [
    "class MS:\n",
    "    def merge_sort(self,array)->list:\n",
    "        if len(array)<=1:\n",
    "            return array\n",
    "        mid=len(array)//2\n",
    "        lefthalf=array[:mid]\n",
    "        righthalf=array[mid:]\n",
    "        sortedleft = self.merge_sort(lefthalf)\n",
    "        sortedright = self.merge_sort(righthalf)\n",
    "        mergedsort = self._merge(sortedleft, sortedright)\n",
    "        return mergedsort\n",
    "\n",
    "    def _merge(self,left,right)->list:\n",
    "        LEFTINDEX,RIGHTINDEX=0,0\n",
    "        result=[]\n",
    "        while LEFTINDEX<len(left) and RIGHTINDEX<len(right):\n",
    "            if(left[LEFTINDEX]<=right[RIGHTINDEX]):\n",
    "                result.append(left[LEFTINDEX])\n",
    "                LEFTINDEX+=1\n",
    "            else:\n",
    "                result.append(right[RIGHTINDEX])\n",
    "                RIGHTINDEX += 1\n",
    "        result.extend(left[LEFTINDEX:])\n",
    "        result.extend(right[RIGHTINDEX:])\n",
    "        return result\n",
    "\n",
    "arr = [23, 432543, 123, 543, 432, 543, 4, 52344, 76, 987, 534]\n",
    "ms=MS()\n",
    "print(ms.merge_sort(arr))"
   ]
  },
  {
   "cell_type": "code",
   "execution_count": null,
   "metadata": {},
   "outputs": [],
   "source": [
    "def returnNone()->None:\n",
    "    pass\n",
    "\n",
    "returnNone()"
   ]
  },
  {
   "attachments": {},
   "cell_type": "markdown",
   "metadata": {},
   "source": [
    "Search Insert Position\n",
    "Problem satatement:\n",
    "\n",
    "Given a sorted array of distinct integers and a target value, return the index if the target is found. If not, return the index where it would be if it were inserted in order.\n",
    "\n",
    "Constraints:\n",
    "\n",
    "1 <= nums.length <= 10^4\n",
    "-10^4 <= nums[i] <= 10^4\n",
    "nums contains distinct values sorted in ascending order.\n",
    "-10^4 <= target <= 10^4\n",
    "\n",
    "Example:\n",
    "\n",
    "Input:<br>\n",
    "4 <br>\n",
    "1 3 5 6<br>\n",
    "2<br>\n",
    "Output:<br>\n",
    "1"
   ]
  },
  {
   "cell_type": "code",
   "execution_count": null,
   "metadata": {},
   "outputs": [],
   "source": [
    "ARR=[123,33,545,656,5432,2,54,2,34]\n",
    "NUM=454\n",
    "def search_insert(ARR:list,NUM:int)->int:\n",
    "    ARR.append(NUM)\n",
    "    ARR=sorted(ARR)\n",
    "    print(ARR)\n",
    "    return ARR.index(NUM)\n",
    "    # for i in range(0,len(ARR)):\n",
    "    #     if NUM>ARR[i] and ARR[i+1]>NUM:\n",
    "    #         ARR.insert(i+1,NUM)\n",
    "    #         return i\n",
    "    #     elif NUM in ARR:\n",
    "    #         return ARR.index(NUM)\n",
    "        \n",
    "print(search_insert(ARR,NUM))"
   ]
  },
  {
   "cell_type": "code",
   "execution_count": null,
   "metadata": {},
   "outputs": [],
   "source": [
    "ARR=[1,3,5,6]\n",
    "ARR.insert(0,32420)"
   ]
  },
  {
   "cell_type": "code",
   "execution_count": null,
   "metadata": {},
   "outputs": [],
   "source": [
    "ARR"
   ]
  },
  {
   "attachments": {},
   "cell_type": "markdown",
   "metadata": {},
   "source": [
    "\n",
    "Form Smallest Number From Two Digit Arrays\n",
    "Problem satatement:\n",
    "\n",
    "Given two arrays of unique digits NUMS1 and NUMS2, return the smallest number that contains at least one digit from each array.\n",
    "\n",
    "Constraints:\n",
    "\n",
    "1 <= NUMS1.length, NUMS2.length <= 9\n",
    "1 <= NUMS1[i], NUMS2[i] <= 9\n",
    "All digits in each array are unique.\n",
    "\n",
    "Example:\n",
    "\n",
    "Input:<br>\n",
    "3 2<br>\n",
    "1 4 3<br>\n",
    "5 7<br>\n",
    "<br>\n",
    "Output:<br>\n",
    "15"
   ]
  },
  {
   "cell_type": "code",
   "execution_count": null,
   "metadata": {},
   "outputs": [],
   "source": []
  },
  {
   "cell_type": "code",
   "execution_count": 40,
   "metadata": {},
   "outputs": [
    {
     "data": {
      "text/plain": [
       "'012'"
      ]
     },
     "execution_count": 40,
     "metadata": {},
     "output_type": "execute_result"
    }
   ],
   "source": [
    "asd='012'\n",
    "asd"
   ]
  },
  {
   "cell_type": "code",
   "execution_count": 43,
   "metadata": {},
   "outputs": [
    {
     "data": {
      "text/plain": [
       "12"
      ]
     },
     "execution_count": 43,
     "metadata": {},
     "output_type": "execute_result"
    }
   ],
   "source": [
    "n1=[1,2,4,5,6]\n",
    "n2=[6,9,4,2,5,7]\n",
    "ans=str(min(n1))+str(min(n2))\n",
    "int(ans)"
   ]
  },
  {
   "cell_type": "code",
   "execution_count": 47,
   "metadata": {},
   "outputs": [
    {
     "name": "stdout",
     "output_type": "stream",
     "text": [
      "11\n"
     ]
    }
   ],
   "source": [
    "NUMS1_SIZE,NUMS2_SIZE=map(int,input().split())\n",
    "NUMS1=list(map(int,input().split()))\n",
    "NUMS2=list(map(int,input().split()))\n",
    "def create_num(NUMS1,NUMS2):\n",
    "  MIN_NUMS1=min(NUMS1)\n",
    "  MIN_NUMS2=min(NUMS2)\n",
    "  val1=MIN_NUMS1*10+MIN_NUMS2\n",
    "  val2=MIN_NUMS2*10+MIN_NUMS1\n",
    "  if val1>val2:\n",
    "    return val2\n",
    "  return val1\n",
    "print(create_num(NUMS1,NUMS2))"
   ]
  },
  {
   "cell_type": "code",
   "execution_count": 48,
   "metadata": {},
   "outputs": [
    {
     "name": "stdout",
     "output_type": "stream",
     "text": [
      "5\n"
     ]
    }
   ],
   "source": [
    "class Solution(object):\n",
    "    def minNumber(self, NUMS1, NUMS2):\n",
    "        common = set(NUMS1) & set(NUMS2)\n",
    "        if common:\n",
    "            return min(common)\n",
    "        MIN_NUMS1, MIN_NUMS2 = min(NUMS1), min(NUMS2)\n",
    "        if MIN_NUMS1 > MIN_NUMS2:\n",
    "            MIN_NUMS1, MIN_NUMS2 = MIN_NUMS2, MIN_NUMS1\n",
    "        return 10 * MIN_NUMS1 + MIN_NUMS2\n",
    "\n",
    "\n",
    "# Get the input from the user\n",
    "n, m = map(int, input().split())\n",
    "NUMS1 = list(map(int, input().split()))\n",
    "NUMS2 = list(map(int, input().split()))\n",
    "\n",
    "# Create an instance of the Solution class\n",
    "solution = Solution()\n",
    "\n",
    "# Call the minNumber method and print the result\n",
    "result = solution.minNumber(NUMS1, NUMS2)\n",
    "print(result)\n"
   ]
  },
  {
   "cell_type": "code",
   "execution_count": 53,
   "metadata": {},
   "outputs": [
    {
     "name": "stdout",
     "output_type": "stream",
     "text": [
      "2\n"
     ]
    }
   ],
   "source": [
    "NUMS1_SIZE,NUMS2_SIZE=map(int,input().split())\n",
    "NUMS1=list(map(int,input().split()))\n",
    "NUMS2=list(map(int,input().split()))\n",
    "def create_num(NUMS1,NUMS2):\n",
    "  MIN_NUMS1, MIN_NUMS2 = min(NUMS1), min(NUMS2)\n",
    "  common = set(NUMS1) & set(NUMS2)\n",
    "  if common:\n",
    "      return min(common)\n",
    "  if MIN_NUMS1 > MIN_NUMS2:\n",
    "    MIN_NUMS1, MIN_NUMS2 = MIN_NUMS2, MIN_NUMS1\n",
    "  return 10 * MIN_NUMS1 + MIN_NUMS2\n",
    "print(create_num(NUMS1,NUMS2))"
   ]
  },
  {
   "cell_type": "code",
   "execution_count": 54,
   "metadata": {},
   "outputs": [
    {
     "ename": "ValueError",
     "evalue": "invalid literal for int() with base 10: '32432fads'",
     "output_type": "error",
     "traceback": [
      "\u001b[1;31m---------------------------------------------------------------------------\u001b[0m",
      "\u001b[1;31mValueError\u001b[0m                                Traceback (most recent call last)",
      "Cell \u001b[1;32mIn[54], line 2\u001b[0m\n\u001b[0;32m      1\u001b[0m asd\u001b[39m=\u001b[39m\u001b[39m'\u001b[39m\u001b[39m32432fads\u001b[39m\u001b[39m'\u001b[39m\n\u001b[1;32m----> 2\u001b[0m \u001b[39mprint\u001b[39m(\u001b[39mint\u001b[39;49m(asd))\n",
      "\u001b[1;31mValueError\u001b[0m: invalid literal for int() with base 10: '32432fads'"
     ]
    }
   ],
   "source": [
    "asd='32432fads'\n",
    "print(int(asd))"
   ]
  },
  {
   "cell_type": "code",
   "execution_count": 59,
   "metadata": {},
   "outputs": [
    {
     "name": "stdout",
     "output_type": "stream",
     "text": [
      "5\n"
     ]
    }
   ],
   "source": [
    "def ANproblem(SIZE,list):    \n",
    "    try:\n",
    "        for i in list:\n",
    "            if i is not int and i!=0:\n",
    "                i=int(i)\n",
    "            if(i==0):\n",
    "                \n",
    "    except ValueError :\n",
    "        i=len(str(i))\n",
    "        return i\n",
    "    return max(list)\n",
    "\n",
    "\n",
    "SIZE = int(input())\n",
    "list = input().split()\n",
    "print(ANproblem(SIZE,list))\n",
    "    \n",
    "        "
   ]
  },
  {
   "attachments": {},
   "cell_type": "markdown",
   "metadata": {},
   "source": [
    "Problem satatement:<br>\n",
    "<br>\n",
    "The value of an alphanumeric string can be defined as:<br>\n",
    "<br>\n",
    "The numeric representation of the string in base 10, if it comprises of digits only.<br>\n",
    "The length of the string, otherwise.<br>\n",
    "Given an array strs of alphanumeric strings, return the maximum value of any string in strs.<br>\n",
    "<br>\n",
    "Constraints:<br>\n",
    "<br>\n",
    "1 <= strs.length <= 100<br>\n",
    "1 <= strs[i].length <= 9<br>\n",
    "strs[i] consists of only lowercase English letters and digits.<br>\n",
    "<br>\n",
    "Example:<br>\n",
    "<br>\n",
    "Input:<br>\n",
    "5<br>\n",
    "abcef 4 3 ab a<br>\n",
    "<br>\n",
    "Output:<br>\n",
    "5<br>\n",
    "\n"
   ]
  },
  {
   "cell_type": "code",
   "execution_count": null,
   "metadata": {},
   "outputs": [],
   "source": [
    "def max_value(strs):\n",
    "    max_val = 0\n",
    "\n",
    "    for s in strs:\n",
    "        val = 0\n",
    "        is_num = True\n",
    "        for c in s:\n",
    "            if c.isdigit():\n",
    "                val = val * 10 + int(c)\n",
    "            else:\n",
    "                is_num = False\n",
    "                break\n",
    "        if not is_num:\n",
    "            val = len(s)\n",
    "        max_val = max(max_val, val)\n",
    "\n",
    "    return max_val\n",
    "\n",
    "\n",
    "n = int(input())\n",
    "strs = list(input().split())\n",
    "result = max_value(strs)\n",
    "print(result)\n"
   ]
  },
  {
   "attachments": {},
   "cell_type": "markdown",
   "metadata": {},
   "source": []
  },
  {
   "attachments": {},
   "cell_type": "markdown",
   "metadata": {},
   "source": [
    "Problem satatement:\n",
    "\n",
    "Given a sorted array of distinct integers and a target value, return the index if the target is found. If not, return the index where it would be if it were inserted in order.\n",
    "\n",
    "Constraints:<br>\n",
    "<br>\n",
    "1 <= nums.length <= 10^4<br>\n",
    "-10^4 <= nums[i] <= 10^4<br>\n",
    "nums contains distinct values sorted in ascending order.<br>\n",
    "-10^4 <= target <= 10^4<br>\n",
    "<br>\n",
    "Example:<br>\n",
    "<br>\n",
    "Input:<br>\n",
    "4<br>\n",
    "1 3 5 6<br>\n",
    "2<br>\n",
    "Output:<br>\n",
    "1<br>\n",
    "\n"
   ]
  },
  {
   "cell_type": "code",
   "execution_count": null,
   "metadata": {},
   "outputs": [],
   "source": [
    "def search_insert(ARR: list, NUM: int) -> int:\n",
    "    ARR.append(NUM)\n",
    "    ARR = sorted(ARR)\n",
    "    return ARR.index(NUM)\n",
    "\n",
    "\n",
    "NUM_LENGTH = int(input())\n",
    "ARR = list(map(int, input().split()))\n",
    "NUM = int(input())\n",
    "print(search_insert(ARR, NUM))\n"
   ]
  },
  {
   "cell_type": "code",
   "execution_count": 1,
   "metadata": {},
   "outputs": [
    {
     "name": "stdout",
     "output_type": "stream",
     "text": [
      "Help on class map in module builtins:\n",
      "\n",
      "class map(object)\n",
      " |  map(func, *iterables) --> map object\n",
      " |  \n",
      " |  Make an iterator that computes the function using arguments from\n",
      " |  each of the iterables.  Stops when the shortest iterable is exhausted.\n",
      " |  \n",
      " |  Methods defined here:\n",
      " |  \n",
      " |  __getattribute__(self, name, /)\n",
      " |      Return getattr(self, name).\n",
      " |  \n",
      " |  __iter__(self, /)\n",
      " |      Implement iter(self).\n",
      " |  \n",
      " |  __next__(self, /)\n",
      " |      Implement next(self).\n",
      " |  \n",
      " |  __reduce__(...)\n",
      " |      Return state information for pickling.\n",
      " |  \n",
      " |  ----------------------------------------------------------------------\n",
      " |  Static methods defined here:\n",
      " |  \n",
      " |  __new__(*args, **kwargs) from builtins.type\n",
      " |      Create and return a new object.  See help(type) for accurate signature.\n",
      "\n"
     ]
    }
   ],
   "source": [
    "help(map\n",
    "     )"
   ]
  },
  {
   "cell_type": "code",
   "execution_count": 26,
   "metadata": {},
   "outputs": [
    {
     "name": "stdout",
     "output_type": "stream",
     "text": [
      "7\n"
     ]
    }
   ],
   "source": [
    "ar1=[23,4,12,4,65,32,54,76,23]\n",
    "def bs54(array,target,first,last):\n",
    "    mid=(first+last)//2\n",
    "    if(first>last):\n",
    "        return None\n",
    "    if(target<array[mid]):\n",
    "        return bs54(array=array,target=target,first=first,last=mid-1)\n",
    "    elif(target>array[mid]):\n",
    "        return bs54(array=array,target=target,first=mid+1,last=last)\n",
    "    else:\n",
    "        return mid\n",
    "    \n",
    "ar1=sorted(ar1)\n",
    "print(bs54(ar1,target=65,first=0,last=(len(ar1)-1)))"
   ]
  },
  {
   "cell_type": "code",
   "execution_count": 57,
   "metadata": {},
   "outputs": [
    {
     "name": "stdout",
     "output_type": "stream",
     "text": [
      "[12, 12, 31, 42]\n"
     ]
    }
   ],
   "source": [
    "print(ar_s[:(len(ar_s)//2)])"
   ]
  },
  {
   "cell_type": "code",
   "execution_count": 42,
   "metadata": {},
   "outputs": [
    {
     "name": "stdout",
     "output_type": "stream",
     "text": [
      "[43, 49, 53, 123]\n"
     ]
    }
   ],
   "source": [
    "print(ar_s[(len(ar_s)//2):])"
   ]
  },
  {
   "cell_type": "code",
   "execution_count": 43,
   "metadata": {},
   "outputs": [
    {
     "name": "stdout",
     "output_type": "stream",
     "text": [
      "Help on built-in function setattr in module builtins:\n",
      "\n",
      "setattr(obj, name, value, /)\n",
      "    Sets the named attribute on the given object to the specified value.\n",
      "    \n",
      "    setattr(x, 'y', v) is equivalent to ``x.y = v``\n",
      "\n",
      "Help on built-in function getattr in module builtins:\n",
      "\n",
      "getattr(...)\n",
      "    getattr(object, name[, default]) -> value\n",
      "    \n",
      "    Get a named attribute from an object; getattr(x, 'y') is equivalent to x.y.\n",
      "    When a default argument is given, it is returned when the attribute doesn't\n",
      "    exist; without it, an exception is raised in that case.\n",
      "\n",
      "None None\n"
     ]
    }
   ],
   "source": [
    "print(help(setattr),\n",
    "help(getattr))\n"
   ]
  },
  {
   "cell_type": "code",
   "execution_count": 5,
   "metadata": {},
   "outputs": [
    {
     "name": "stdout",
     "output_type": "stream",
     "text": [
      "1 3\n"
     ]
    }
   ],
   "source": [
    "NUM = int(input())\n",
    "x = map(int, input().split())\n",
    "TARGET = int(input())\n",
    "x = sorted(x)\n",
    "POS = []\n",
    "for i in range(0, len(x)):\n",
    "  if x[i] == TARGET:\n",
    "    POS.append(i)\n",
    "if POS is None:\n",
    "  print([-1, -1])\n",
    "else:\n",
    "  print(POS[0], POS[-1])\n"
   ]
  },
  {
   "cell_type": "code",
   "execution_count": 4,
   "metadata": {},
   "outputs": [
    {
     "name": "stdout",
     "output_type": "stream",
     "text": [
      "[-1226, -546, -52, -12, -1, -0.4, 0, 0, 0, 53, 234, 464, 6343]\n"
     ]
    }
   ],
   "source": [
    "asd=[-12,53,-52,0,-0.4,-1,0,4-1230,-0,464,-546,234,6343]\n",
    "print(sorted(asd))"
   ]
  },
  {
   "cell_type": "code",
   "execution_count": 7,
   "metadata": {},
   "outputs": [
    {
     "ename": "AttributeError",
     "evalue": "'dict' object attribute 'keys' is read-only",
     "output_type": "error",
     "traceback": [
      "\u001b[1;31m---------------------------------------------------------------------------\u001b[0m",
      "\u001b[1;31mAttributeError\u001b[0m                            Traceback (most recent call last)",
      "Cell \u001b[1;32mIn[7], line 12\u001b[0m\n\u001b[0;32m     10\u001b[0m     \u001b[39mprint\u001b[39m(mapp)\n\u001b[0;32m     11\u001b[0m     \u001b[39mprint\u001b[39m(same_len)\n\u001b[1;32m---> 12\u001b[0m iso(\u001b[39m\"\u001b[39;49m\u001b[39megg\u001b[39;49m\u001b[39m\"\u001b[39;49m,\u001b[39m\"\u001b[39;49m\u001b[39mbee\u001b[39;49m\u001b[39m\"\u001b[39;49m)\n",
      "Cell \u001b[1;32mIn[7], line 7\u001b[0m, in \u001b[0;36miso\u001b[1;34m(a, b)\u001b[0m\n\u001b[0;32m      5\u001b[0m mapp \u001b[39m=\u001b[39m {}\n\u001b[0;32m      6\u001b[0m \u001b[39mfor\u001b[39;00m i \u001b[39min\u001b[39;00m a:\n\u001b[1;32m----> 7\u001b[0m   mapp\u001b[39m.\u001b[39;49mkeys \u001b[39m=\u001b[39m i\n\u001b[0;32m      8\u001b[0m \u001b[39mfor\u001b[39;00m j \u001b[39min\u001b[39;00m b:\n\u001b[0;32m      9\u001b[0m   mapp\u001b[39m.\u001b[39mvalues[i] \u001b[39m=\u001b[39m j\n",
      "\u001b[1;31mAttributeError\u001b[0m: 'dict' object attribute 'keys' is read-only"
     ]
    }
   ],
   "source": [
    "def iso(a: str, b:str):\n",
    "  same_len = False\n",
    "  if len(a) == len(b):\n",
    "    same_len = True\n",
    "  mapp = {}\n",
    "  for i in a:\n",
    "    mapp.keys = i\n",
    "  for j in b:\n",
    "    mapp.values[i] = j\n",
    "    print(mapp)\n",
    "    print(same_len)\n",
    "iso(\"egg\",\"bee\")\n",
    "\n"
   ]
  },
  {
   "cell_type": "code",
   "execution_count": 22,
   "metadata": {},
   "outputs": [
    {
     "name": "stdout",
     "output_type": "stream",
     "text": [
      "{'a': '123', 'b': '234', 'c': '345'}\n",
      "{'a': '123', 'b': '234', 'c': '345'}\n",
      "['a', 'b', 'c']\n"
     ]
    }
   ],
   "source": [
    "mappp={\n",
    "    'a':'123',\n",
    "    'b':'234',\n",
    "    'c':'345'\n",
    "    \n",
    "}\n",
    "print(mappp)\n",
    "list(mappp.keys())\n",
    "print(mappp)\n",
    "print(list(mappp.keys()))"
   ]
  },
  {
   "cell_type": "code",
   "execution_count": 29,
   "metadata": {},
   "outputs": [
    {
     "ename": "AttributeError",
     "evalue": "'dict' object attribute 'keys' is read-only",
     "output_type": "error",
     "traceback": [
      "\u001b[1;31m---------------------------------------------------------------------------\u001b[0m",
      "\u001b[1;31mAttributeError\u001b[0m                            Traceback (most recent call last)",
      "Cell \u001b[1;32mIn[29], line 3\u001b[0m\n\u001b[0;32m      1\u001b[0m keee\u001b[39m=\u001b[39m[\u001b[39m'\u001b[39m\u001b[39ma\u001b[39m\u001b[39m'\u001b[39m, \u001b[39m'\u001b[39m\u001b[39mb\u001b[39m\u001b[39m'\u001b[39m, \u001b[39m'\u001b[39m\u001b[39mc\u001b[39m\u001b[39m'\u001b[39m]\n\u001b[0;32m      2\u001b[0m asd\u001b[39m=\u001b[39m{}\n\u001b[1;32m----> 3\u001b[0m asd\u001b[39m.\u001b[39;49mkeys\u001b[39m=\u001b[39mkeee\n\u001b[0;32m      4\u001b[0m asd\u001b[39m.\u001b[39mkeys\n",
      "\u001b[1;31mAttributeError\u001b[0m: 'dict' object attribute 'keys' is read-only"
     ]
    }
   ],
   "source": [
    "keee=['a', 'b', 'c']\n",
    "asd={}\n",
    "asd.keys=keee"
   ]
  },
  {
   "cell_type": "code",
   "execution_count": 30,
   "metadata": {},
   "outputs": [
    {
     "data": {
      "text/plain": [
       "['a', 'e', 'i', 'o', 'u']"
      ]
     },
     "execution_count": 30,
     "metadata": {},
     "output_type": "execute_result"
    }
   ],
   "source": [
    "v=list('aeiou')\n",
    "v"
   ]
  },
  {
   "cell_type": "code",
   "execution_count": 27,
   "metadata": {},
   "outputs": [
    {
     "name": "stdout",
     "output_type": "stream",
     "text": [
      "classB1\n",
      "classA1\n",
      "classA2\n",
      "classB2\n"
     ]
    }
   ],
   "source": [
    "class A:\n",
    "    def printsae(self):\n",
    "        print(\"classA1\")\n",
    "    def printaa(self):\n",
    "        print(\"classA2\")\n",
    "\n",
    "class B:\n",
    "    def printsa(self):\n",
    "        print(\"classB1\")\n",
    "    def printa(self):\n",
    "        print(\"classB2\")\n",
    "class C(B,A):\n",
    "    pass\n",
    "\n",
    "obj=C()\n",
    "obj.printsa()\n",
    "obj.printsae()\n",
    "obj.printaa()\n",
    "obj.printa()\n"
   ]
  },
  {
   "cell_type": "code",
   "execution_count": 49,
   "metadata": {},
   "outputs": [
    {
     "ename": "AttributeError",
     "evalue": "'list' object has no attribute 'split'",
     "output_type": "error",
     "traceback": [
      "\u001b[1;31m---------------------------------------------------------------------------\u001b[0m",
      "\u001b[1;31mAttributeError\u001b[0m                            Traceback (most recent call last)",
      "Cell \u001b[1;32mIn[49], line 16\u001b[0m\n\u001b[0;32m     13\u001b[0m \u001b[39mclass\u001b[39;00m \u001b[39mG\u001b[39;00m(E,F):\n\u001b[0;32m     14\u001b[0m     \u001b[39mpass\u001b[39;00m\n\u001b[1;32m---> 16\u001b[0m \u001b[39mprint\u001b[39m(\u001b[39mlist\u001b[39;49m(G\u001b[39m.\u001b[39;49mmro())\u001b[39m.\u001b[39;49msplit(\u001b[39m'\u001b[39m\u001b[39m.\u001b[39m\u001b[39m'\u001b[39m))\n",
      "\u001b[1;31mAttributeError\u001b[0m: 'list' object has no attribute 'split'"
     ]
    }
   ],
   "source": [
    "class A:\n",
    "    pass\n",
    "class B:\n",
    "    pass\n",
    "class C:\n",
    "    pass\n",
    "class D:\n",
    "    pass\n",
    "class E(A,D,B):\n",
    "    pass\n",
    "class F(C,D):\n",
    "    pass\n",
    "class G(E,F):\n",
    "    pass\n",
    "\n",
    "\n",
    "print(list(G.mro().split('.')))\n"
   ]
  },
  {
   "cell_type": "code",
   "execution_count": 59,
   "metadata": {},
   "outputs": [
    {
     "name": "stdout",
     "output_type": "stream",
     "text": [
      "4\n"
     ]
    }
   ],
   "source": [
    "y=lambda x:x**2\n",
    "print(y(2))"
   ]
  },
  {
   "cell_type": "code",
   "execution_count": 60,
   "metadata": {},
   "outputs": [
    {
     "ename": "SyntaxError",
     "evalue": "invalid syntax (2427723147.py, line 1)",
     "output_type": "error",
     "traceback": [
      "\u001b[1;36m  Cell \u001b[1;32mIn[60], line 1\u001b[1;36m\u001b[0m\n\u001b[1;33m    asd=[(i =lambda i: i**2) for i in range(10)]\u001b[0m\n\u001b[1;37m            ^\u001b[0m\n\u001b[1;31mSyntaxError\u001b[0m\u001b[1;31m:\u001b[0m invalid syntax\n"
     ]
    }
   ],
   "source": [
    "asd=[(i lambda i: i**2) for i in range(10)]\n",
    "asd"
   ]
  },
  {
   "cell_type": "code",
   "execution_count": 2,
   "metadata": {},
   "outputs": [
    {
     "data": {
      "text/plain": [
       "1"
      ]
     },
     "execution_count": 2,
     "metadata": {},
     "output_type": "execute_result"
    }
   ],
   "source": [
    "test=[2,45,1]\n",
    "a=test.pop()\n",
    "a"
   ]
  },
  {
   "cell_type": "code",
   "execution_count": 20,
   "metadata": {},
   "outputs": [
    {
     "name": "stdout",
     "output_type": "stream",
     "text": [
      "1\n",
      "4\n",
      "2\n"
     ]
    }
   ],
   "source": [
    "size = int(input())\n",
    "vals = ['1','4','*','2','/']\n",
    "for i in vals:\n",
    "    try:\n",
    "        i=int(i)\n",
    "    except ValueError as e:\n",
    "        pass\n",
    "    else:\n",
    "        print(i)"
   ]
  },
  {
   "attachments": {},
   "cell_type": "markdown",
   "metadata": {},
   "source": [
    "Evaluate Reverse Polish Notation\n",
    "Problem Statement:\n",
    "\n",
    "You are given an array of strings tokens that represents an arithmetic expression in a Reverse Polish Notation.\n",
    "\n",
    "Evaluate the expression. Return an integer that represents the value of the expression.\n",
    "\n",
    "Note that:\n",
    "\n",
    "The valid operators are '+', '-', '*', and '/'.\n",
    "Each operand may be an integer or another expression.\n",
    "The division between two integers always truncates toward zero.\n",
    "There will not be any division by zero.\n",
    "The input represents a valid arithmetic expression in a reverse polish notation.\n",
    "The answer and all the intermediate calculations can be represented in a 32-bit integer.\n",
    "\n",
    "Constraints:\n",
    "1 <= tokens.length <= 10^4\n",
    "tokens[i] is either an operator: \"+\", \"-\", \"*\", or \"/\", or an integer in the range [-200, 200]\n",
    "<br>\n",
    "Example:<br>\n",
    "<br>\n",
    "Input:<br>\n",
    "5<br>\n",
    "2 1 + 3 *<br>\n",
    "<br>\n",
    "Output:<br>\n",
    "9<br>\n",
    "\n"
   ]
  },
  {
   "cell_type": "code",
   "execution_count": 21,
   "metadata": {},
   "outputs": [
    {
     "ename": "ValueError",
     "evalue": "invalid literal for int() with base 10: ''",
     "output_type": "error",
     "traceback": [
      "\u001b[1;31m---------------------------------------------------------------------------\u001b[0m",
      "\u001b[1;31mValueError\u001b[0m                                Traceback (most recent call last)",
      "Cell \u001b[1;32mIn[21], line 35\u001b[0m\n\u001b[0;32m     31\u001b[0m         \u001b[39mraise\u001b[39;00m \u001b[39mValueError\u001b[39;00m(\u001b[39m\"\u001b[39m\u001b[39mInvalid operator: \u001b[39m\u001b[39m\"\u001b[39m \u001b[39m+\u001b[39m operator)\n\u001b[0;32m     34\u001b[0m \u001b[39m# Read the number of tokens\u001b[39;00m\n\u001b[1;32m---> 35\u001b[0m n \u001b[39m=\u001b[39m \u001b[39mint\u001b[39;49m(\u001b[39minput\u001b[39;49m())\n\u001b[0;32m     37\u001b[0m \u001b[39m# Read the tokens\u001b[39;00m\n\u001b[0;32m     38\u001b[0m tokens \u001b[39m=\u001b[39m \u001b[39minput\u001b[39m()\u001b[39m.\u001b[39msplit()\n",
      "\u001b[1;31mValueError\u001b[0m: invalid literal for int() with base 10: ''"
     ]
    }
   ],
   "source": [
    "def evalRPN(tokens):\n",
    "    stack = []\n",
    "\n",
    "    for token in tokens:\n",
    "        if isOperator(token):\n",
    "            operand2 = stack.pop()\n",
    "            operand1 = stack.pop()\n",
    "            result = performOperation(token, operand1, operand2)\n",
    "            stack.append(result)\n",
    "        else:\n",
    "            operand = int(token)\n",
    "            stack.append(operand)\n",
    "\n",
    "    return stack.pop()\n",
    "\n",
    "\n",
    "def isOperator(token):\n",
    "    return token == \"+\" or token == \"-\" or token == \"*\" or token == \"/\"\n",
    "\n",
    "\n",
    "def performOperation(operator, operand1, operand2):\n",
    "    if operator == \"+\":\n",
    "        return operand1 + operand2\n",
    "    elif operator == \"-\":\n",
    "        return operand1 - operand2\n",
    "    elif operator == \"*\":\n",
    "        return operand1 * operand2\n",
    "    elif operator == \"/\":\n",
    "        return int(operand1 / operand2)\n",
    "    else:\n",
    "        raise ValueError(\"Invalid operator: \" + operator)\n",
    "\n",
    "\n",
    "# Read the number of tokens\n",
    "n = int(input())\n",
    "\n",
    "# Read the tokens\n",
    "tokens = input().split()\n",
    "\n",
    "# Call the evalRPN function and print the result\n",
    "result = evalRPN(tokens)\n",
    "print(result)\n",
    "\n",
    "\n",
    "\n",
    "# modified own:\n",
    "def rev_pol_notation(vals: list) -> int:\n",
    "    stack = []\n",
    "\n",
    "    for val in vals:\n",
    "        if val.isdigit():  # Check if the value is a digit\n",
    "            stack.append(int(val))\n",
    "        else:\n",
    "            b = stack.pop()\n",
    "            a = stack.pop()\n",
    "            if val == '*':\n",
    "                result = a * b\n",
    "            elif val == '-':\n",
    "                result = a - b\n",
    "            elif val == '/':\n",
    "                result = a / b\n",
    "            elif val == '+':\n",
    "                result = a + b\n",
    "            stack.append(result)\n",
    "\n",
    "    return stack.pop()\n",
    "\n",
    "\n",
    "# Example usage\n",
    "size = int(input())\n",
    "vals = input().split()\n",
    "\n",
    "print(rev_pol_notation(vals))\n"
   ]
  },
  {
   "attachments": {},
   "cell_type": "markdown",
   "metadata": {},
   "source": [
    "Find the Prefix Common Array of Two Arrays\n",
    "Problem Statement:\n",
    "\n",
    "You are given two 0-indexed integer permutations A and B of length n.\n",
    "\n",
    "A prefix common array of A and B is an array C such that C[i] is equal to the count of numbers that are present at or before the index i in both A and B.\n",
    "\n",
    "Return the prefix common array of A and B.\n",
    "\n",
    "A sequence of n integers is called a permutation if it contains all integers from 1 to n exactly once.\n",
    "\n",
    "Constraints:\n",
    "1 <= A.length == B.length == n <= 50\n",
    "1 <= A[i], B[i] <= n\n",
    "It is guaranteed that A and B are both a permutation of n integers.\n",
    "<br>\n",
    "Example:<br>\n",
    "<br>\n",
    "Input:<br>\n",
    "4<br>\n",
    "1 3 2 4<br>\n",
    "3 1 2 4<br>\n",
    "<br>\n",
    "Output:<br>\n",
    "0 2 3 4<br>"
   ]
  },
  {
   "cell_type": "code",
   "execution_count": null,
   "metadata": {},
   "outputs": [],
   "source": []
  },
  {
   "attachments": {},
   "cell_type": "markdown",
   "metadata": {},
   "source": [
    "Find The Original Array of Prefix Xor\n",
    "Problem Statement:\n",
    "\n",
    "You are given an integer array pref of size n. Find and return the array arr of size n that satisfies:\n",
    "\n",
    "pref[i] = arr[0] ^ arr[1] ^ ... ^ arr[i].\n",
    "Note that ^ denotes the bitwise-xor operation.\n",
    "\n",
    "It can be proven that the answer is unique.\n",
    "\n",
    "Constraints:<br>\n",
    "<br>\n",
    "1 <= pref.length <= 10^5<br>\n",
    "0 <= pref[i] <= 10^6<br>\n",
    "<br>\n",
    "Example:<br>\n",
    "<br>\n",
    "Input:<br>\n",
    "5<br>\n",
    "5 2 0 3 1<br>\n",
    "<br>\n",
    "Output:<br>\n",
    "5 7 2 3 2<br>\n",
    "\n"
   ]
  },
  {
   "cell_type": "code",
   "execution_count": 1,
   "metadata": {},
   "outputs": [],
   "source": [
    "# \n"
   ]
  },
  {
   "attachments": {},
   "cell_type": "markdown",
   "metadata": {},
   "source": [
    "num in millions\n",
    "give a space after after 3 from right to left\n",
    "but it should be an int coc problem"
   ]
  },
  {
   "cell_type": "code",
   "execution_count": 45,
   "metadata": {},
   "outputs": [
    {
     "data": {
      "text/plain": [
       "'3241212'"
      ]
     },
     "execution_count": 45,
     "metadata": {},
     "output_type": "execute_result"
    }
   ],
   "source": [
    "i=str(3241212) \n",
    "i"
   ]
  },
  {
   "cell_type": "code",
   "execution_count": 48,
   "metadata": {},
   "outputs": [
    {
     "name": "stdout",
     "output_type": "stream",
     "text": [
      "3 2 4 1 2 1 2\n"
     ]
    }
   ],
   "source": [
    "u=print(' '.join(i))\n",
    "u"
   ]
  },
  {
   "cell_type": "code",
   "execution_count": 13,
   "metadata": {},
   "outputs": [
    {
     "name": "stdout",
     "output_type": "stream",
     "text": [
      "{'India': 91, 'UK': 44, 'USA': 1}\n",
      "{'India': 91, 'UK': 44, 'USA': 1, 'asd': '32434dsa'}\n"
     ]
    }
   ],
   "source": [
    "ct = {\"India\": 91, \"UK\": 44, \"USA\": 1}\n",
    "print(ct)\n",
    "ct[\"asd\"]='32434dsa'\n",
    "print(ct)\n"
   ]
  },
  {
   "cell_type": "code",
   "execution_count": 85,
   "metadata": {},
   "outputs": [
    {
     "name": "stdout",
     "output_type": "stream",
     "text": [
      "10 000 000\n",
      "190 000\n",
      "120 000 000\n",
      "8 000 000 000\n"
     ]
    }
   ],
   "source": [
    "def to_string(NUM):\n",
    "    NUM_STR=str(NUM)\n",
    "    NUM_LIST=list(NUM_STR)\n",
    "    \n",
    "    for i in range(len(NUM_LIST),0,3):\n",
    "        NUM_LIST.insert(i,' ')\n",
    "    \n",
    "    return NUM_LIST\n",
    "            \n",
    "test_cases = [\n",
    "    10000000,\n",
    "    190000,\n",
    "    120000000,\n",
    "    8000000000\n",
    "]\n",
    "for i in test_cases:\n",
    "    print(to_string(i), end='\\n')\n"
   ]
  },
  {
   "cell_type": "code",
   "execution_count": 69,
   "metadata": {},
   "outputs": [
    {
     "data": {
      "text/plain": [
       "'24fa sda'"
      ]
     },
     "execution_count": 69,
     "metadata": {},
     "output_type": "execute_result"
    }
   ],
   "source": [
    "asd=list('24fadsda')\n",
    "asd[4]= ' '\n",
    "asdd=''\n",
    "for i in asd:\n",
    "    asdd+=i\n",
    "asdd"
   ]
  },
  {
   "cell_type": "code",
   "execution_count": null,
   "metadata": {},
   "outputs": [],
   "source": [
    "l=[2,2,3]"
   ]
  },
  {
   "attachments": {},
   "cell_type": "markdown",
   "metadata": {},
   "source": [
    "Find the Duplicate Number\n",
    "Problem satatement:\n",
    "\n",
    "Given an array of integers nums containing n + 1 integers where each integer is in the range [1, n] inclusive.\n",
    "\n",
    "There is only one repeated number in nums, return this repeated number.\n",
    "\n",
    "You must solve the problem without modifying the array nums and use only constant extra space.\n",
    "\n",
    "Constraints:\n",
    "\n",
    "1 <= n <= 10^5\n",
    "nums.length == n + 1\n",
    "1 <= nums[i] <= n\n",
    "All the integers in nums appear only once except for precisely one integer which appears two or more times.\n",
    "\n",
    "Example:\n",
    "\n",
    "Input:\n",
    "5\n",
    "1 4 3 2 2\n",
    "\n",
    "Output:\n",
    "2\n",
    "\n"
   ]
  },
  {
   "cell_type": "code",
   "execution_count": null,
   "metadata": {},
   "outputs": [],
   "source": [
    "def dupes(ar: list) -> int:\n",
    "  ar = sorted(ar)\n",
    "  for i in range(0, len(ar)-1):\n",
    "      if i != len(ar) and ar[i] == ar[i+1]:\n",
    "          return ar[i]\n",
    "\n",
    "\n",
    "num = int(input())\n",
    "ar = list(map(int, input().split()))\n",
    "print(dupes(ar))\n"
   ]
  },
  {
   "cell_type": "code",
   "execution_count": 17,
   "metadata": {},
   "outputs": [
    {
     "ename": "TypeError",
     "evalue": "string indices must be integers, not 'str'",
     "output_type": "error",
     "traceback": [
      "\u001b[1;31m---------------------------------------------------------------------------\u001b[0m",
      "\u001b[1;31mTypeError\u001b[0m                                 Traceback (most recent call last)",
      "Cell \u001b[1;32mIn[17], line 10\u001b[0m\n\u001b[0;32m      8\u001b[0m \u001b[39mfor\u001b[39;00m key,value \u001b[39min\u001b[39;00m pars\u001b[39m.\u001b[39mitems():\n\u001b[0;32m      9\u001b[0m     \u001b[39mif\u001b[39;00m key \u001b[39min\u001b[39;00m pars\u001b[39m.\u001b[39mkeys():\n\u001b[1;32m---> 10\u001b[0m         stack\u001b[39m.\u001b[39mappend(a[key])\n\u001b[0;32m     11\u001b[0m     \u001b[39melif\u001b[39;00m key \u001b[39m==\u001b[39m value:\n\u001b[0;32m     12\u001b[0m         stack\u001b[39m.\u001b[39mpop(key)\n",
      "\u001b[1;31mTypeError\u001b[0m: string indices must be integers, not 'str'"
     ]
    }
   ],
   "source": [
    "a=str('(())')\n",
    "stack=[]\n",
    "pars={   \n",
    "    '(':')',\n",
    "    '{':'}',\n",
    "    '[':']'\n",
    "}\n",
    "for key,value in pars.items():\n",
    "    if key in pars.keys():\n",
    "        stack.append(a[key])\n",
    "    elif key == value:\n",
    "        stack.pop(key)\n",
    "        \n",
    "print(stack)\n"
   ]
  },
  {
   "cell_type": "code",
   "execution_count": 26,
   "metadata": {},
   "outputs": [
    {
     "name": "stdout",
     "output_type": "stream",
     "text": [
      "Parentheses are balanced.\n"
     ]
    }
   ],
   "source": [
    "a = \"{}()({[]})\"\n",
    "stack = []\n",
    "pars = {\n",
    "    '(': ')',\n",
    "    '{': '}',\n",
    "    '[': ']'\n",
    "}\n",
    "\n",
    "for char in a:\n",
    "    if char in pars.keys():\n",
    "        stack.append(char)\n",
    "    elif char in pars.values():\n",
    "        if pars[stack.pop()] != char:\n",
    "            print(\"Parentheses are not balanced.\")\n",
    "            break\n",
    "else:\n",
    "    if not stack:\n",
    "        print(\"Parentheses are balanced.\")\n",
    "    else:\n",
    "        print(\"Parentheses are not balanced.\")\n"
   ]
  },
  {
   "cell_type": "code",
   "execution_count": null,
   "metadata": {},
   "outputs": [],
   "source": [
    "a = str('(())')\n",
    "pars = {\n",
    "    '(': ')',\n",
    "    '{': '}',\n",
    "    '[': ']'\n",
    "}"
   ]
  },
  {
   "cell_type": "code",
   "execution_count": 14,
   "metadata": {},
   "outputs": [
    {
     "name": "stdout",
     "output_type": "stream",
     "text": [
      "True\n"
     ]
    }
   ],
   "source": [
    "a = str('(())')\n",
    "pars = {\n",
    "    '(': ')',\n",
    "    '{': '}',\n",
    "    '[': ']'\n",
    "}\n",
    "\n",
    "if ']' in pars.values():\n",
    "    print (True)\n"
   ]
  },
  {
   "cell_type": "code",
   "execution_count": null,
   "metadata": {},
   "outputs": [],
   "source": []
  },
  {
   "attachments": {},
   "cell_type": "markdown",
   "metadata": {},
   "source": [
    "Valid Parentheses\n",
    "Problem satatement:\n",
    "\n",
    "Given a string s containing just the characters '(', ')', '{', '}', '[' and ']', determine if the input string is valid.\n",
    "\n",
    "An input string is valid if:\n",
    "\n",
    "Open brackets must be closed by the same type of brackets.\n",
    "Open brackets must be closed in the correct order.\n",
    "Every close bracket has a corresponding open bracket of the same type.\n",
    "\n",
    "Constraints:\n",
    "\n",
    "1 <= s.length <= 10^4\n",
    "s consists of parentheses only '()[]{}'.\n",
    "\n",
    "Example:\n",
    "\n",
    "Input:\n",
    "(())\n",
    "\n",
    "Output:\n",
    "true (in lowercase only)\n",
    "\n"
   ]
  },
  {
   "cell_type": "code",
   "execution_count": null,
   "metadata": {},
   "outputs": [],
   "source": [
    "def VP(a: str):\n",
    "  stack = []\n",
    "  pars = {\n",
    "      '[': ']',\n",
    "      '{': '}',\n",
    "      '(': ')'\n",
    "  }\n",
    "\n",
    "  for i in a:\n",
    "    if i in pars.keys():\n",
    "      stack.append(i)\n",
    "    elif i in pars.values():\n",
    "      if i != pars[stack.pop()]:\n",
    "        break\n",
    "  else:\n",
    "    if not stack:\n",
    "      return 'true'\n",
    "    else:\n",
    "      return 'false'\n",
    "\n",
    "\n",
    "print(VP(input().strip()))\n"
   ]
  },
  {
   "attachments": {},
   "cell_type": "markdown",
   "metadata": {},
   "source": [
    "Minimum Rounds to Complete All Tasks\n",
    "Problem satatement:\n",
    "\n",
    "You are given a 0-indexed integer array tasks, where tasks[i] represents the difficulty level of a task. In each round, you can complete either 2 or 3 tasks of the same difficulty level.\n",
    "\n",
    "Return the minimum rounds required to complete all the tasks, or -1 if it is not possible to complete all the tasks.\n",
    "\n",
    "Constraints:\n",
    "\n",
    "1 <= tasks.length <= 10^5\n",
    "1 <= tasks[i] <= 10^9\n",
    "\n",
    "Example:\n",
    "\n",
    "Input:\n",
    "10\n",
    "2 2 3 3 2 4 4 4 4 4\n",
    "\n",
    "Output:\n",
    "4\n",
    "\n"
   ]
  },
  {
   "cell_type": "code",
   "execution_count": 1,
   "metadata": {},
   "outputs": [
    {
     "ename": "SyntaxError",
     "evalue": "expected ':' (3452774769.py, line 3)",
     "output_type": "error",
     "traceback": [
      "\u001b[1;36m  Cell \u001b[1;32mIn[1], line 3\u001b[1;36m\u001b[0m\n\u001b[1;33m    for i in ran\u001b[0m\n\u001b[1;37m                ^\u001b[0m\n\u001b[1;31mSyntaxError\u001b[0m\u001b[1;31m:\u001b[0m expected ':'\n"
     ]
    }
   ],
   "source": [
    "a='{([])}'\n",
    "stack=[]\n",
    "pars={\n",
    "    '[':']',\n",
    "    '{':'}',\n",
    "    '(':')'\n",
    "}\n",
    "def isss(a):\n",
    "    for i in range(0,len(a)):\n",
    "        if i in pars.keys():\n",
    "            stack.append(a[i])\n",
    "        elif a[i] == pars[stack.pop()]:\n",
    "            \n",
    "        "
   ]
  },
  {
   "cell_type": "code",
   "execution_count": null,
   "metadata": {},
   "outputs": [],
   "source": []
  }
 ],
 "metadata": {
  "kernelspec": {
   "display_name": "Python 3",
   "language": "python",
   "name": "python3"
  },
  "language_info": {
   "codemirror_mode": {
    "name": "ipython",
    "version": 3
   },
   "file_extension": ".py",
   "mimetype": "text/x-python",
   "name": "python",
   "nbconvert_exporter": "python",
   "pygments_lexer": "ipython3",
   "version": "3.11.2"
  },
  "orig_nbformat": 4
 },
 "nbformat": 4,
 "nbformat_minor": 2
}
