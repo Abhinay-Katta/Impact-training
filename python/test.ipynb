{
 "cells": [
  {
   "cell_type": "code",
   "execution_count": 22,
   "metadata": {},
   "outputs": [
    {
     "name": "stdout",
     "output_type": "stream",
     "text": [
      "[2]\n"
     ]
    }
   ],
   "source": [
    "l=[2,2,4,5,1,76]\n",
    "l=sorted(l)\n",
    "ads=[]\n",
    "for i in range(0,len(l)-1):\n",
    "    if i!=len(l) and l[i]==l[i+1]:\n",
    "            ads.append(l[i])\n",
    "print(ads)    "
   ]
  },
  {
   "cell_type": "code",
   "execution_count": 7,
   "metadata": {},
   "outputs": [
    {
     "name": "stdout",
     "output_type": "stream",
     "text": [
      "[1, 2, 3, 4, 5, 76]\n"
     ]
    }
   ],
   "source": [
    "# for i in range(len(l)):\n",
    "#     if i in l and i not in set_l:\n",
    "#         print(i)\n",
    "#     else:\n",
    "#         print(None)\n",
    "\n",
    "print(set_l )"
   ]
  },
  {
   "cell_type": "code",
   "execution_count": 8,
   "metadata": {},
   "outputs": [
    {
     "name": "stdout",
     "output_type": "stream",
     "text": [
      "True\n"
     ]
    }
   ],
   "source": [
    "class ASD:\n",
    "    __a=13\n",
    "    def __function():\n",
    "        return True\n",
    "    print(__function())\n",
    "        \n",
    "assd=ASD()\n",
    "\n",
    "class ASDD(ASD):\n",
    "    "
   ]
  },
  {
   "cell_type": "code",
   "execution_count": 32,
   "metadata": {},
   "outputs": [],
   "source": [
    "# print(assd.__a)"
   ]
  },
  {
   "attachments": {},
   "cell_type": "markdown",
   "metadata": {},
   "source": [
    "Program on stacks and queue.\n",
    "Write a program to implement a queue using two stacks. Then process q queries, where each query is one of the following 3 types:\n",
    "\n",
    "x: Enqueue element x into the end of the queue.\n",
    ": Dequeue the element at the front of the queue.\n",
    ": Print the element at the front of the queue.\n",
    "Sample Input:\n",
    "10\n",
    "1 42\n",
    "2\n",
    "1 14\n",
    "3\n",
    "1 28\n",
    "3\n",
    "1 60\n",
    "1 78\n",
    "2\n",
    "2\n",
    "\n",
    "Sample Output:\n",
    "14\n",
    "14\n",
    "\n"
   ]
  },
  {
   "cell_type": "code",
   "execution_count": 13,
   "metadata": {},
   "outputs": [
    {
     "name": "stdout",
     "output_type": "stream",
     "text": [
      "[34, 53, 43, 732]\n",
      "True\n",
      "[34, 53, 43, 732, 123]\n",
      "True\n",
      "False\n",
      "False\n",
      "[53, 43, 732, 123]\n",
      "[123, 732, 43, 53]\n"
     ]
    }
   ],
   "source": [
    "class QUE:\n",
    "    def __init__(self,listt) -> None:\n",
    "        self.SIZE=5\n",
    "        self.queue=listt\n",
    "        return None\n",
    "    \n",
    "    def print_all(self)->list:\n",
    "        return self.queue\n",
    "    \n",
    "    def isEmpty(self)->bool:\n",
    "        return len(self.queue)==0\n",
    "    \n",
    "    def isFull(self)->bool:\n",
    "        return len(self.queue)==self.SIZE\n",
    "    \n",
    "    def enqueue(self,NUM)->bool:\n",
    "        if not self.isFull():\n",
    "            self.queue.append(NUM)\n",
    "            return True\n",
    "        return False\n",
    "        \n",
    "    def dequeue(self)->bool:\n",
    "        if not self.isEmpty():\n",
    "            self.queue.pop(0)\n",
    "            return True\n",
    "        return False\n",
    "\n",
    "    def reversal(self)->list:\n",
    "        rev=[]\n",
    "        for i in range(len(self.queue)):\n",
    "            rev.append(self.queue[(len(self.queue)-1)-i])\n",
    "        return rev\n",
    "    \n",
    "listt=[34,53,43,732]\n",
    "q = QUE(listt)\n",
    "print(q.print_all())\n",
    "print(q.enqueue(123))\n",
    "print(q.print_all())\n",
    "print(q.dequeue())\n",
    "print(q.isEmpty())\n",
    "print(q.isFull())\n",
    "print(q.print_all())\n",
    "print(q.reversal())"
   ]
  },
  {
   "attachments": {},
   "cell_type": "markdown",
   "metadata": {},
   "source": [
    "### Basic Stack without Top "
   ]
  },
  {
   "cell_type": "code",
   "execution_count": 75,
   "metadata": {},
   "outputs": [],
   "source": [
    "class STACK:\n",
    "    def __init__(self, size:int, items:list) -> None:\n",
    "        self.SIZE=size\n",
    "        self.stack=items\n",
    "        return None\n",
    "    \n",
    "    def print_all(self)->list:\n",
    "        print(\"Stack: \")\n",
    "        return self.stack\n",
    "    \n",
    "    def is_empty(self)->bool:\n",
    "        return len(self.stack)==0\n",
    "    \n",
    "    def is_full(self)->bool:\n",
    "        return (len(self.stack)==self.SIZE)\n",
    "    \n",
    "    def push_item(self,item:int):\n",
    "        if not self.is_full():\n",
    "            self.stack.append(item)\n",
    "        else:\n",
    "            raise Exception('Stack is full')\n",
    "        \n",
    "    def peek(self):\n",
    "        return len(self.stack-1)\n",
    "    \n",
    "    def pop_item(self)->bool:\n",
    "        if not self.is_empty():\n",
    "            self.stack.pop(-1)\n",
    "        else:raise Exception(\"Stack is empty\")\n",
    "        \n",
    "    def stack_reversal(self)->list:\n",
    "        rev=[]\n",
    "        for i in range(len(self.stack)):\n",
    "            rev.append(self.stack[(len(self.stack)-1)-i])\n",
    "        print(\"Reversed stack: \")\n",
    "        return rev"
   ]
  },
  {
   "cell_type": "code",
   "execution_count": 36,
   "metadata": {},
   "outputs": [
    {
     "ename": "ValueError",
     "evalue": "invalid literal for int() with base 10: ''",
     "output_type": "error",
     "traceback": [
      "\u001b[1;31m---------------------------------------------------------------------------\u001b[0m",
      "\u001b[1;31mValueError\u001b[0m                                Traceback (most recent call last)",
      "Cell \u001b[1;32mIn[36], line 50\u001b[0m\n\u001b[0;32m     48\u001b[0m     \u001b[39mdef\u001b[39;00m \u001b[39mexitt\u001b[39m(\u001b[39mself\u001b[39m):\n\u001b[0;32m     49\u001b[0m         quit()\n\u001b[1;32m---> 50\u001b[0m stackk\u001b[39m=\u001b[39mProceduralStack()\n",
      "Cell \u001b[1;32mIn[36], line 16\u001b[0m, in \u001b[0;36mProceduralStack.__init__\u001b[1;34m(self)\u001b[0m\n\u001b[0;32m     14\u001b[0m i\u001b[39m=\u001b[39m\u001b[39mint\u001b[39m(\u001b[39minput\u001b[39m())\n\u001b[0;32m     15\u001b[0m \u001b[39mwhile\u001b[39;00m(\u001b[39mTrue\u001b[39;00m):\n\u001b[1;32m---> 16\u001b[0m     i\u001b[39m=\u001b[39m\u001b[39mint\u001b[39;49m(\u001b[39minput\u001b[39;49m(\u001b[39m\"\u001b[39;49m\u001b[39mEnter a choice\u001b[39;49m\u001b[39m\"\u001b[39;49m))\n\u001b[0;32m     17\u001b[0m     \u001b[39mif\u001b[39;00m i \u001b[39m==\u001b[39m\u001b[39m0\u001b[39m:\n\u001b[0;32m     18\u001b[0m         \u001b[39mprint\u001b[39m(\u001b[39mself\u001b[39m\u001b[39m.\u001b[39mchoices)\n",
      "\u001b[1;31mValueError\u001b[0m: invalid literal for int() with base 10: ''"
     ]
    }
   ],
   "source": [
    "class ProceduralStack:\n",
    "    def __init__(self) -> None:\n",
    "        self.TOP=-1\n",
    "        self.REAR=-1\n",
    "        self.MAX=5\n",
    "        self.stack=[]\n",
    "        self.choices={\n",
    "            1:lambda:self.push(),\n",
    "            2:lambda:self.pop(),\n",
    "            3:lambda:self.search(),\n",
    "            4:lambda:self.traverse(),\n",
    "            5:lambda:self.exitt()\n",
    "            }\n",
    "        i=int(input())\n",
    "        while(True):\n",
    "            i=int(input(\"Enter a choice\"))\n",
    "            if i ==0:\n",
    "                print(self.choices)\n",
    "            if i in self.choices.keys():\n",
    "                self.choices[i]\n",
    "            elif i==5:break\n",
    "        \n",
    "        \n",
    "    def push(self):\n",
    "        \n",
    "        if(self.TOP==self.MAX):\n",
    "            return \"Overflow\"\n",
    "        else:\n",
    "            self.TOP+=1\n",
    "            self.STACK[self.TOP]=int(input())\n",
    "        \n",
    "    def pop(self):\n",
    "        if(self.TOP==-1):\n",
    "            return \"Underflow\"\n",
    "    \n",
    "    def search(self):\n",
    "        \n",
    "        for i in range(0,len(self.stack)):\n",
    "            if self.stack[i]==int(input()):\n",
    "                return i\n",
    "        return False\n",
    "    \n",
    "    def traverse(self):\n",
    "        for i in range(0,len(self.stack)):\n",
    "            print(self.stack[i])\n",
    "            \n",
    "    \n",
    "    def exitt(self):\n",
    "        quit()\n",
    "stackk=ProceduralStack()"
   ]
  },
  {
   "cell_type": "code",
   "execution_count": 76,
   "metadata": {},
   "outputs": [
    {
     "name": "stdout",
     "output_type": "stream",
     "text": [
      "Stack: \n",
      "[1, 2, 3, 4, 5, 6]\n",
      "False\n",
      "True\n",
      "Stack: \n",
      "[1, 2, 12]\n",
      "Reversed stack: \n",
      "[12, 2, 1]\n"
     ]
    }
   ],
   "source": [
    "S=STACK(6,[1,2,3,4,5,6])\n",
    "print(S.print_all())\n",
    "print(S.is_empty())\n",
    "print(S.is_full())\n",
    "S.pop_item()\n",
    "S.pop_item()\n",
    "S.pop_item()\n",
    "S.pop_item()\n",
    "S.push_item(12)\n",
    "print(S.print_all())\n",
    "print(S.stack_reversal())\n"
   ]
  },
  {
   "attachments": {},
   "cell_type": "markdown",
   "metadata": {},
   "source": [
    "### Linked List"
   ]
  },
  {
   "cell_type": "code",
   "execution_count": null,
   "metadata": {},
   "outputs": [],
   "source": [
    "class Node:\n",
    "    def __init__(self) -> None:\n",
    "        self.data=None\n",
    "        self.next=None\n",
    "        \n",
    "class LinkedList():\n",
    "    def __init__(self) -> None:\n",
    "        pass"
   ]
  },
  {
   "attachments": {},
   "cell_type": "markdown",
   "metadata": {},
   "source": [
    "Valid_paranthesis problem "
   ]
  },
  {
   "cell_type": "code",
   "execution_count": 20,
   "metadata": {},
   "outputs": [
    {
     "name": "stdout",
     "output_type": "stream",
     "text": [
      "} is not valid\n"
     ]
    },
    {
     "ename": "IndexError",
     "evalue": "list index out of range",
     "output_type": "error",
     "traceback": [
      "\u001b[1;31m---------------------------------------------------------------------------\u001b[0m",
      "\u001b[1;31mIndexError\u001b[0m                                Traceback (most recent call last)",
      "Cell \u001b[1;32mIn[20], line 16\u001b[0m\n\u001b[0;32m     14\u001b[0m     \u001b[39mif\u001b[39;00m i \u001b[39min\u001b[39;00m pars\u001b[39m.\u001b[39mkeys():\n\u001b[0;32m     15\u001b[0m        stack\u001b[39m.\u001b[39mappend(i)\n\u001b[1;32m---> 16\u001b[0m     \u001b[39melif\u001b[39;00m i \u001b[39min\u001b[39;00m pars\u001b[39m.\u001b[39mvalues() \u001b[39mand\u001b[39;00m i\u001b[39m==\u001b[39mpars[stack[\u001b[39m-\u001b[39;49m\u001b[39m1\u001b[39;49m]]:\n\u001b[0;32m     17\u001b[0m         stack\u001b[39m.\u001b[39mpop()\n\u001b[0;32m     18\u001b[0m \u001b[39mif\u001b[39;00m(\u001b[39mlen\u001b[39m(stack)\u001b[39m==\u001b[39m\u001b[39m0\u001b[39m):\n",
      "\u001b[1;31mIndexError\u001b[0m: list index out of range"
     ]
    }
   ],
   "source": [
    "pars={\n",
    "    '{':'}',\n",
    "    '[':']',\n",
    "    '(':')'\n",
    "    }\n",
    "stack=[]\n",
    "\n",
    "aa=\"]\"\n",
    "\n",
    "if len(aa)==1:\n",
    "    print(f\"{aa} is not valid\")\n",
    "\n",
    "for i in aa:\n",
    "    if i in pars.keys():\n",
    "       stack.append(i)\n",
    "    elif i in pars.values() and i==pars[stack[-1]]:\n",
    "        stack.pop()\n",
    "if(len(stack)==0):\n",
    "    print(f\"{aa} is valid\")\n",
    "elif(len(stack)!=0):\n",
    "    print(f\"{aa} is not valid\")\n"
   ]
  },
  {
   "cell_type": "code",
   "execution_count": null,
   "metadata": {},
   "outputs": [],
   "source": [
    "aa=str(input())\n",
    "\n",
    "operands=[\"*\",\"/\",\"+\",\"-\",\"^\"]\n",
    "priority={\n",
    "    '-':1,\n",
    "    '+':1,\n",
    "    '*':2,\n",
    "    '/':2,\n",
    "    '^':3,\n",
    "    }\n",
    "stack=[]\n",
    "final_string=''\n",
    "for i in aa:\n",
    "    if i.isdigit():\n",
    "        final_string+=(str(i))\n",
    "    if i in priority:\n",
    "        if priority[stack[-1]]<priority[i]:\n",
    "            stack.append(i)\n",
    "        elif len(stack)==0:\n",
    "            stack.append(i)\n",
    "        else:\n",
    "            final_string+stack.pop()\n",
    "            "
   ]
  },
  {
   "attachments": {},
   "cell_type": "markdown",
   "metadata": {},
   "source": [
    "iNTereST SYSTEM\n"
   ]
  },
  {
   "cell_type": "code",
   "execution_count": null,
   "metadata": {},
   "outputs": [],
   "source": [
    "class SImple_Interest:\n",
    "    def __init__(self,Principle,Interest,Rate_of_interest,Time) -> None:\n",
    "        P=Principle\n",
    "        I=Interest\n",
    "        T=Time\n",
    "        R=Rate_of_interest\n",
    "        A=(P+I)\n",
    "        \n",
    "    def calculate_simple_interest(self,P,T,R):\n",
    "        return (P*R*T)/100\n",
    "    \n",
    "    "
   ]
  },
  {
   "cell_type": "code",
   "execution_count": 22,
   "metadata": {},
   "outputs": [
    {
     "name": "stdout",
     "output_type": "stream",
     "text": [
      "1100\n"
     ]
    }
   ],
   "source": [
    " "
   ]
  },
  {
   "cell_type": "code",
   "execution_count": 36,
   "metadata": {},
   "outputs": [
    {
     "name": "stdout",
     "output_type": "stream",
     "text": [
      "0000000000001\n",
      "4096\n"
     ]
    }
   ],
   "source": [
    "def fav(num):\n",
    "    num_bits=''\n",
    "    while True:\n",
    "        num_bits+=str(num % 2)\n",
    "        num=num//2\n",
    "        if num==0:\n",
    "            break\n",
    "    dec_of_num=''.join(sorted(num_bits))\n",
    "    print(dec_of_num)\n",
    "    dec_num=0\n",
    "    for i in range(0,len(dec_of_num)):\n",
    "        dec_num += (int(dec_of_num[i])*(2**i))\n",
    "    return dec_num\n",
    "print(fav(pow(2,12)))"
   ]
  },
  {
   "cell_type": "code",
   "execution_count": 42,
   "metadata": {},
   "outputs": [],
   "source": [
    "def palsum(a,b):\n",
    "    num=int(a)+int(b)\n",
    "    print(num)\n",
    "    \n",
    "    rev_num=str(num)[::-1]\n",
    "    if str(num)==rev_num:\n",
    "        return True\n",
    "    return False\n",
    "\n"
   ]
  },
  {
   "cell_type": "code",
   "execution_count": 43,
   "metadata": {},
   "outputs": [
    {
     "name": "stdout",
     "output_type": "stream",
     "text": [
      "101\n"
     ]
    },
    {
     "data": {
      "text/plain": [
       "True"
      ]
     },
     "execution_count": 43,
     "metadata": {},
     "output_type": "execute_result"
    }
   ],
   "source": [
    "palsum(100,1)"
   ]
  },
  {
   "cell_type": "code",
   "execution_count": 47,
   "metadata": {},
   "outputs": [
    {
     "name": "stdout",
     "output_type": "stream",
     "text": [
      "{'a', 'c', 'd', 'b'}\n"
     ]
    }
   ],
   "source": [
    "a='abcd'\n",
    "b='abcde'\n",
    "print(set(a) & set(b))"
   ]
  },
  {
   "cell_type": "code",
   "execution_count": 55,
   "metadata": {},
   "outputs": [
    {
     "name": "stdout",
     "output_type": "stream",
     "text": [
      "e\n"
     ]
    }
   ],
   "source": [
    "a = 'abcd'\n",
    "b = 'abcde'\n",
    "c=''\n",
    "for i in b:\n",
    "    if i not in a:\n",
    "        c=i\n",
    "print(c)"
   ]
  },
  {
   "cell_type": "code",
   "execution_count": 58,
   "metadata": {},
   "outputs": [
    {
     "data": {
      "text/plain": [
       "130"
      ]
     },
     "execution_count": 58,
     "metadata": {},
     "output_type": "execute_result"
    }
   ],
   "source": [
    "(731+732+733+734) % 175\n"
   ]
  },
  {
   "cell_type": "code",
   "execution_count": 61,
   "metadata": {},
   "outputs": [
    {
     "data": {
      "text/plain": [
       "16"
      ]
     },
     "execution_count": 61,
     "metadata": {},
     "output_type": "execute_result"
    }
   ],
   "source": [
    "(1729+2529)%21"
   ]
  },
  {
   "cell_type": "code",
   "execution_count": 66,
   "metadata": {},
   "outputs": [
    {
     "data": {
      "text/plain": [
       "274663042055228736"
      ]
     },
     "execution_count": 66,
     "metadata": {},
     "output_type": "execute_result"
    }
   ],
   "source": [
    "41 * 52 * 63 * 74 * 86 * 97 * 18 * 29*6346"
   ]
  },
  {
   "cell_type": "code",
   "execution_count": 67,
   "metadata": {},
   "outputs": [
    {
     "data": {
      "text/plain": [
       "447552"
      ]
     },
     "execution_count": 67,
     "metadata": {},
     "output_type": "execute_result"
    }
   ],
   "source": [
    "54*74*112"
   ]
  },
  {
   "cell_type": "code",
   "execution_count": 69,
   "metadata": {},
   "outputs": [],
   "source": [
    "for i in range(1,10000):\n",
    "    if 13215/i==79 and 13215%i==22:\n",
    "        print(i)"
   ]
  },
  {
   "cell_type": "code",
   "execution_count": 70,
   "metadata": {},
   "outputs": [
    {
     "data": {
      "text/plain": [
       "167.0"
      ]
     },
     "execution_count": 70,
     "metadata": {},
     "output_type": "execute_result"
    }
   ],
   "source": [
    "(13215-22)/79"
   ]
  },
  {
   "cell_type": "code",
   "execution_count": 72,
   "metadata": {},
   "outputs": [
    {
     "data": {
      "text/plain": [
       "28"
      ]
     },
     "execution_count": 72,
     "metadata": {},
     "output_type": "execute_result"
    }
   ],
   "source": [
    "3717%31"
   ]
  },
  {
   "cell_type": "code",
   "execution_count": 73,
   "metadata": {},
   "outputs": [
    {
     "data": {
      "text/plain": [
       "278.5"
      ]
     },
     "execution_count": 73,
     "metadata": {},
     "output_type": "execute_result"
    }
   ],
   "source": [
    "3342/12"
   ]
  },
  {
   "cell_type": "code",
   "execution_count": 75,
   "metadata": {},
   "outputs": [
    {
     "data": {
      "text/plain": [
       "0"
      ]
     },
     "execution_count": 75,
     "metadata": {},
     "output_type": "execute_result"
    }
   ],
   "source": [
    "3348%12"
   ]
  },
  {
   "cell_type": "code",
   "execution_count": null,
   "metadata": {},
   "outputs": [],
   "source": [
    "class Node"
   ]
  },
  {
   "cell_type": "code",
   "execution_count": 5,
   "metadata": {},
   "outputs": [
    {
     "data": {
      "text/plain": [
       "True"
      ]
     },
     "execution_count": 5,
     "metadata": {},
     "output_type": "execute_result"
    }
   ],
   "source": [
    "def gem_num(a:int)->bool:\n",
    "    num_digits=''\n",
    "    while True:\n",
    "        num_digits+=str(a%2)\n",
    "        a=a//2\n",
    "        if a==0:\n",
    "            break\n",
    "    if int(num_digits)==1:\n",
    "        return True\n",
    "    return False\n",
    "gem_num(2)\n",
    "    "
   ]
  },
  {
   "cell_type": "code",
   "execution_count": 15,
   "metadata": {},
   "outputs": [
    {
     "name": "stdout",
     "output_type": "stream",
     "text": [
      "True\n"
     ]
    }
   ],
   "source": [
    "def num_game(dec_num:int)->bool:\n",
    "    num_digits=''\n",
    "    while True:\n",
    "        num_digits+=str(dec_num%2)\n",
    "        dec_num=dec_num//2\n",
    "        if dec_num==0:\n",
    "            break\n",
    "    \n",
    "    if int(num_digits)%3==0:\n",
    "        return True\n",
    "    return False\n",
    "\n",
    "num=str(input())\n",
    "print(num_game(int(num)))\n",
    "        "
   ]
  },
  {
   "cell_type": "code",
   "execution_count": 23,
   "metadata": {},
   "outputs": [
    {
     "ename": "IndexError",
     "evalue": "list index out of range",
     "output_type": "error",
     "traceback": [
      "\u001b[1;31m---------------------------------------------------------------------------\u001b[0m",
      "\u001b[1;31mIndexError\u001b[0m                                Traceback (most recent call last)",
      "Cell \u001b[1;32mIn[23], line 27\u001b[0m\n\u001b[0;32m     24\u001b[0m     \u001b[39mprint\u001b[39m(min_list)\n\u001b[0;32m     25\u001b[0m     \u001b[39mreturn\u001b[39;00m \u001b[39mNone\u001b[39;00m\n\u001b[1;32m---> 27\u001b[0m palindrome_min([\u001b[39m'\u001b[39;49m\u001b[39m1\u001b[39;49m\u001b[39m'\u001b[39;49m,\u001b[39m'\u001b[39;49m\u001b[39m2\u001b[39;49m\u001b[39m'\u001b[39;49m,\u001b[39m'\u001b[39;49m\u001b[39m0\u001b[39;49m\u001b[39m'\u001b[39;49m,\u001b[39m'\u001b[39;49m\u001b[39m1\u001b[39;49m\u001b[39m'\u001b[39;49m,\u001b[39m'\u001b[39;49m\u001b[39m3\u001b[39;49m\u001b[39m'\u001b[39;49m],n\u001b[39m=\u001b[39;49m\u001b[39m5\u001b[39;49m,k\u001b[39m=\u001b[39;49m\u001b[39m2\u001b[39;49m)\n",
      "Cell \u001b[1;32mIn[23], line 20\u001b[0m, in \u001b[0;36mpalindrome_min\u001b[1;34m(ar, n, k)\u001b[0m\n\u001b[0;32m     18\u001b[0m \u001b[39mfor\u001b[39;00m i \u001b[39min\u001b[39;00m \u001b[39mrange\u001b[39m(\u001b[39m0\u001b[39m,\u001b[39mlen\u001b[39m(ar)):\n\u001b[0;32m     19\u001b[0m     \u001b[39mfor\u001b[39;00m j \u001b[39min\u001b[39;00m \u001b[39mrange\u001b[39m(\u001b[39m0\u001b[39m,k):\n\u001b[1;32m---> 20\u001b[0m         sub_arrays[i]\u001b[39m.\u001b[39mappend(ar[j])\n\u001b[0;32m     21\u001b[0m \u001b[39mprint\u001b[39m(sub_arrays)\n\u001b[0;32m     22\u001b[0m \u001b[39mfor\u001b[39;00m i \u001b[39min\u001b[39;00m \u001b[39mlen\u001b[39m(sub_arrays):\n",
      "\u001b[1;31mIndexError\u001b[0m: list index out of range"
     ]
    }
   ],
   "source": [
    "# Iterate through the array from index 0 to n-k (inclusive). This will give you all the subarrays of size k.\n",
    "\n",
    "# For each subarray, find the minimum element.\n",
    "\n",
    "# Concatenate these minimum elements to form a number.\n",
    "\n",
    "# Check if the concatenated number is a palindrome, meaning it reads the same forwards and backward.\n",
    "\n",
    "# If the concatenated number is a palindrome, return true; otherwise, return false.\n",
    "\n",
    "\n",
    "def palindrome_min(ar:list,n:int,k:int):\n",
    "    if k ==0 or k==1:\n",
    "        return False\n",
    "    sub_arrays=[]\n",
    "    min_list=''\n",
    "    \n",
    "    for i in range(0,len(ar)):\n",
    "        for j in range(0,k):\n",
    "            sub_arrays[i].append(ar[j])\n",
    "    print(sub_arrays)\n",
    "    for i in len(sub_arrays):\n",
    "        min_list+=str(min(sub_arrays[i]))\n",
    "    print(min_list)\n",
    "    return None\n",
    "\n",
    "palindrome_min(['1','2','0','1','3'],n=5,k=2)\n",
    "            "
   ]
  },
  {
   "cell_type": "code",
   "execution_count": 25,
   "metadata": {},
   "outputs": [
    {
     "name": "stdout",
     "output_type": "stream",
     "text": [
      "[['1', '2'], ['2', '0'], ['0', '1'], ['1', '3']]\n",
      "1001\n"
     ]
    },
    {
     "data": {
      "text/plain": [
       "True"
      ]
     },
     "execution_count": 25,
     "metadata": {},
     "output_type": "execute_result"
    }
   ],
   "source": [
    "def palindrome_min(ar: list, n: int, k: int):\n",
    "    if k == 0 or k == 1:\n",
    "        return False\n",
    "\n",
    "    sub_arrays = []\n",
    "    min_list = ''\n",
    "\n",
    "    for i in range(0, len(ar) - k + 1):\n",
    "        sub_array = []\n",
    "        for j in range(i, i + k):\n",
    "            sub_array.append(ar[j])\n",
    "        sub_arrays.append(sub_array)\n",
    "\n",
    "    print(sub_arrays)\n",
    "\n",
    "    for i in range(len(sub_arrays)):\n",
    "        min_list += str(min(sub_arrays[i]))\n",
    "\n",
    "    print(min_list)\n",
    "    \n",
    "    return min_list==min_list[::-1]\n",
    "    \n",
    "palindrome_min(['1', '2', '0', '1', '3'], n=5, k=2)\n"
   ]
  },
  {
   "cell_type": "code",
   "execution_count": 21,
   "metadata": {},
   "outputs": [
    {
     "name": "stdout",
     "output_type": "stream",
     "text": [
      "['1', '2', '4', '5', '2', '2', '3']\n",
      "[1, 2, 4, 5, 2, 2, 3]\n"
     ]
    }
   ],
   "source": [
    "a=list('1245223')\n",
    "print(a)\n",
    "a=[int(i) for i in a]\n",
    "print(a)"
   ]
  },
  {
   "cell_type": "code",
   "execution_count": null,
   "metadata": {},
   "outputs": [],
   "source": []
  }
 ],
 "metadata": {
  "kernelspec": {
   "display_name": "Python 3",
   "language": "python",
   "name": "python3"
  },
  "language_info": {
   "codemirror_mode": {
    "name": "ipython",
    "version": 3
   },
   "file_extension": ".py",
   "mimetype": "text/x-python",
   "name": "python",
   "nbconvert_exporter": "python",
   "pygments_lexer": "ipython3",
   "version": "3.11.2"
  },
  "orig_nbformat": 4
 },
 "nbformat": 4,
 "nbformat_minor": 2
}
