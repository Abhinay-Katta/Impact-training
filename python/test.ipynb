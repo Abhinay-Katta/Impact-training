{
 "cells": [
  {
   "cell_type": "code",
   "execution_count": null,
   "metadata": {},
   "outputs": [],
   "source": [
    "l=[2,2,4,5,1,76]\n",
    "l=sorted(l)\n",
    "ads=[]\n",
    "for i in range(0,len(l)-1):\n",
    "    if i!=len(l) and l[i]==l[i+1]:\n",
    "            ads.append(l[i])\n",
    "print(ads)    "
   ]
  },
  {
   "cell_type": "code",
   "execution_count": null,
   "metadata": {},
   "outputs": [],
   "source": [
    "# for i in range(len(l)):\n",
    "#     if i in l and i not in set_l:\n",
    "#         print(i)\n",
    "#     else:\n",
    "#         print(None)\n",
    "\n",
    "print(set_l )"
   ]
  },
  {
   "cell_type": "code",
   "execution_count": null,
   "metadata": {},
   "outputs": [],
   "source": [
    "class ASD:\n",
    "    __a=13\n",
    "    def __function():\n",
    "        return True\n",
    "    print(__function())\n",
    "        \n",
    "assd=ASD()\n",
    "\n",
    "class ASDD(ASD):\n",
    "    "
   ]
  },
  {
   "cell_type": "code",
   "execution_count": null,
   "metadata": {},
   "outputs": [],
   "source": [
    "# print(assd.__a)"
   ]
  },
  {
   "attachments": {},
   "cell_type": "markdown",
   "metadata": {},
   "source": [
    "Program on stacks and queue.\n",
    "Write a program to implement a queue using two stacks. Then process q queries, where each query is one of the following 3 types:\n",
    "\n",
    "x: Enqueue element x into the end of the queue.\n",
    ": Dequeue the element at the front of the queue.\n",
    ": Print the element at the front of the queue.\n",
    "Sample Input:\n",
    "10\n",
    "1 42\n",
    "2\n",
    "1 14\n",
    "3\n",
    "1 28\n",
    "3\n",
    "1 60\n",
    "1 78\n",
    "2\n",
    "2\n",
    "\n",
    "Sample Output:\n",
    "14\n",
    "14\n",
    "\n"
   ]
  },
  {
   "cell_type": "code",
   "execution_count": null,
   "metadata": {},
   "outputs": [],
   "source": [
    "class QUE:\n",
    "    def __init__(self,listt) -> None:\n",
    "        self.SIZE=5\n",
    "        self.queue=listt\n",
    "        return None\n",
    "    \n",
    "    def print_all(self)->list:\n",
    "        return self.queue\n",
    "    \n",
    "    def isEmpty(self)->bool:\n",
    "        return len(self.queue)==0\n",
    "    \n",
    "    def isFull(self)->bool:\n",
    "        return len(self.queue)==self.SIZE\n",
    "    \n",
    "    def enqueue(self,NUM)->bool:\n",
    "        if not self.isFull():\n",
    "            self.queue.append(NUM)\n",
    "            return True\n",
    "        return False\n",
    "        \n",
    "    def dequeue(self)->bool:\n",
    "        if not self.isEmpty():\n",
    "            self.queue.pop(0)\n",
    "            return True\n",
    "        return False\n",
    "\n",
    "    def reversal(self)->list:\n",
    "        rev=[]\n",
    "        for i in range(len(self.queue)):\n",
    "            rev.append(self.queue[(len(self.queue)-1)-i])\n",
    "        return rev\n",
    "    \n",
    "listt=[34,53,43,732]\n",
    "q = QUE(listt)\n",
    "print(q.print_all())\n",
    "print(q.enqueue(123))\n",
    "print(q.print_all())\n",
    "print(q.dequeue())\n",
    "print(q.isEmpty())\n",
    "print(q.isFull())\n",
    "print(q.print_all())\n",
    "print(q.reversal())"
   ]
  },
  {
   "attachments": {},
   "cell_type": "markdown",
   "metadata": {},
   "source": [
    "### Basic Stack without Top "
   ]
  },
  {
   "cell_type": "code",
   "execution_count": null,
   "metadata": {},
   "outputs": [],
   "source": [
    "class STACK:\n",
    "    def __init__(self, size:int, items:list) -> None:\n",
    "        self.SIZE=size\n",
    "        self.stack=items\n",
    "        return None\n",
    "    \n",
    "    def print_all(self)->list:\n",
    "        print(\"Stack: \")\n",
    "        return self.stack\n",
    "    \n",
    "    def is_empty(self)->bool:\n",
    "        return len(self.stack)==0\n",
    "    \n",
    "    def is_full(self)->bool:\n",
    "        return (len(self.stack)==self.SIZE)\n",
    "    \n",
    "    def push_item(self,item:int):\n",
    "        if not self.is_full():\n",
    "            self.stack.append(item)\n",
    "        else:\n",
    "            raise Exception('Stack is full')\n",
    "        \n",
    "    def peek(self):\n",
    "        return len(self.stack-1)\n",
    "    \n",
    "    def pop_item(self)->bool:\n",
    "        if not self.is_empty():\n",
    "            self.stack.pop(-1)\n",
    "        else:raise Exception(\"Stack is empty\")\n",
    "        \n",
    "    def stack_reversal(self)->list:\n",
    "        rev=[]\n",
    "        for i in range(len(self.stack)):\n",
    "            rev.append(self.stack[(len(self.stack)-1)-i])\n",
    "        print(\"Reversed stack: \")\n",
    "        return rev"
   ]
  },
  {
   "cell_type": "code",
   "execution_count": null,
   "metadata": {},
   "outputs": [],
   "source": [
    "class ProceduralStack:\n",
    "    def __init__(self) -> None:\n",
    "        self.TOP=-1\n",
    "        self.REAR=-1\n",
    "        self.MAX=5\n",
    "        self.stack=[]\n",
    "        self.choices={\n",
    "            1:lambda:self.push(),\n",
    "            2:lambda:self.pop(),\n",
    "            3:lambda:self.search(),\n",
    "            4:lambda:self.traverse(),\n",
    "            5:lambda:self.exitt()\n",
    "            }\n",
    "        i=int(input())\n",
    "        while(True):\n",
    "            i=int(input(\"Enter a choice\"))\n",
    "            if i ==0:\n",
    "                print(self.choices)\n",
    "            if i in self.choices.keys():\n",
    "                self.choices[i]\n",
    "            elif i==5:break\n",
    "        \n",
    "        \n",
    "    def push(self):\n",
    "        \n",
    "        if(self.TOP==self.MAX):\n",
    "            return \"Overflow\"\n",
    "        else:\n",
    "            self.TOP+=1\n",
    "            self.STACK[self.TOP]=int(input())\n",
    "        \n",
    "    def pop(self):\n",
    "        if(self.TOP==-1):\n",
    "            return \"Underflow\"\n",
    "    \n",
    "    def search(self):\n",
    "        \n",
    "        for i in range(0,len(self.stack)):\n",
    "            if self.stack[i]==int(input()):\n",
    "                return i\n",
    "        return False\n",
    "    \n",
    "    def traverse(self):\n",
    "        for i in range(0,len(self.stack)):\n",
    "            print(self.stack[i])\n",
    "            \n",
    "    \n",
    "    def exitt(self):\n",
    "        quit()\n",
    "stackk=ProceduralStack()"
   ]
  },
  {
   "cell_type": "code",
   "execution_count": null,
   "metadata": {},
   "outputs": [],
   "source": [
    "S=STACK(6,[1,2,3,4,5,6])\n",
    "print(S.print_all())\n",
    "print(S.is_empty())\n",
    "print(S.is_full())\n",
    "S.pop_item()\n",
    "S.pop_item()\n",
    "S.pop_item()\n",
    "S.pop_item()\n",
    "S.push_item(12)\n",
    "print(S.print_all())\n",
    "print(S.stack_reversal())\n"
   ]
  },
  {
   "attachments": {},
   "cell_type": "markdown",
   "metadata": {},
   "source": [
    "### Linked List"
   ]
  },
  {
   "cell_type": "code",
   "execution_count": null,
   "metadata": {},
   "outputs": [],
   "source": [
    "class Node:\n",
    "    def __init__(self) -> None:\n",
    "        self.data=None\n",
    "        self.next=None\n",
    "        \n",
    "class LinkedList():\n",
    "    def __init__(self) -> None:\n",
    "        pass"
   ]
  },
  {
   "attachments": {},
   "cell_type": "markdown",
   "metadata": {},
   "source": [
    "Valid_paranthesis problem "
   ]
  },
  {
   "cell_type": "code",
   "execution_count": null,
   "metadata": {},
   "outputs": [],
   "source": [
    "pars={\n",
    "    '{':'}',\n",
    "    '[':']',\n",
    "    '(':')'\n",
    "    }\n",
    "stack=[]\n",
    "\n",
    "aa=\"]\"\n",
    "\n",
    "if len(aa)==1:\n",
    "    print(f\"{aa} is not valid\")\n",
    "\n",
    "for i in aa:\n",
    "    if i in pars.keys():\n",
    "       stack.append(i)\n",
    "    elif i in pars.values() and i==pars[stack[-1]]:\n",
    "        stack.pop()\n",
    "if(len(stack)==0):\n",
    "    print(f\"{aa} is valid\")\n",
    "elif(len(stack)!=0):\n",
    "    print(f\"{aa} is not valid\")\n"
   ]
  },
  {
   "cell_type": "code",
   "execution_count": null,
   "metadata": {},
   "outputs": [],
   "source": [
    "aa=str(input())\n",
    "\n",
    "operands=[\"*\",\"/\",\"+\",\"-\",\"^\"]\n",
    "priority={\n",
    "    '-':1,\n",
    "    '+':1,\n",
    "    '*':2,\n",
    "    '/':2,\n",
    "    '^':3,\n",
    "    }\n",
    "stack=[]\n",
    "final_string=''\n",
    "for i in aa:\n",
    "    if i.isdigit():\n",
    "        final_string+=(str(i))\n",
    "    if i in priority:\n",
    "        if priority[stack[-1]]<priority[i]:\n",
    "            stack.append(i)\n",
    "        elif len(stack)==0:\n",
    "            stack.append(i)\n",
    "        else:\n",
    "            final_string+stack.pop()\n",
    "            "
   ]
  },
  {
   "attachments": {},
   "cell_type": "markdown",
   "metadata": {},
   "source": [
    "iNTereST SYSTEM\n"
   ]
  },
  {
   "cell_type": "code",
   "execution_count": null,
   "metadata": {},
   "outputs": [],
   "source": [
    "class SImple_Interest:\n",
    "    def __init__(self,Principle,Interest,Rate_of_interest,Time) -> None:\n",
    "        P=Principle\n",
    "        I=Interest\n",
    "        T=Time\n",
    "        R=Rate_of_interest\n",
    "        A=(P+I)\n",
    "        \n",
    "    def calculate_simple_interest(self,P,T,R):\n",
    "        return (P*R*T)/100\n",
    "    \n",
    "    "
   ]
  },
  {
   "cell_type": "code",
   "execution_count": null,
   "metadata": {},
   "outputs": [],
   "source": [
    " "
   ]
  },
  {
   "cell_type": "code",
   "execution_count": null,
   "metadata": {},
   "outputs": [],
   "source": [
    "def fav(num):\n",
    "    num_bits=''\n",
    "    while True:\n",
    "        num_bits+=str(num % 2)\n",
    "        num=num//2\n",
    "        if num==0:\n",
    "            break\n",
    "    dec_of_num=''.join(sorted(num_bits))\n",
    "    print(dec_of_num)\n",
    "    dec_num=0\n",
    "    for i in range(0,len(dec_of_num)):\n",
    "        dec_num += (int(dec_of_num[i])*(2**i))\n",
    "    return dec_num\n",
    "print(fav(pow(2,12)))"
   ]
  },
  {
   "cell_type": "code",
   "execution_count": null,
   "metadata": {},
   "outputs": [],
   "source": [
    "def palsum(a,b):\n",
    "    num=int(a)+int(b)\n",
    "    print(num)\n",
    "    \n",
    "    rev_num=str(num)[::-1]\n",
    "    if str(num)==rev_num:\n",
    "        return True\n",
    "    return False\n",
    "\n"
   ]
  },
  {
   "cell_type": "code",
   "execution_count": null,
   "metadata": {},
   "outputs": [],
   "source": [
    "palsum(100,1)"
   ]
  },
  {
   "cell_type": "code",
   "execution_count": null,
   "metadata": {},
   "outputs": [],
   "source": [
    "a='abcd'\n",
    "b='abcde'\n",
    "print(set(a) & set(b))"
   ]
  },
  {
   "cell_type": "code",
   "execution_count": null,
   "metadata": {},
   "outputs": [],
   "source": [
    "a = 'abcd'\n",
    "b = 'abcde'\n",
    "c=''\n",
    "for i in b:\n",
    "    if i not in a:\n",
    "        c=i\n",
    "print(c)"
   ]
  },
  {
   "cell_type": "code",
   "execution_count": null,
   "metadata": {},
   "outputs": [],
   "source": [
    "(731+732+733+734) % 175\n"
   ]
  },
  {
   "cell_type": "code",
   "execution_count": null,
   "metadata": {},
   "outputs": [],
   "source": [
    "(1729+2529)%21"
   ]
  },
  {
   "cell_type": "code",
   "execution_count": null,
   "metadata": {},
   "outputs": [],
   "source": [
    "41 * 52 * 63 * 74 * 86 * 97 * 18 * 29*6346"
   ]
  },
  {
   "cell_type": "code",
   "execution_count": null,
   "metadata": {},
   "outputs": [],
   "source": [
    "54*74*112"
   ]
  },
  {
   "cell_type": "code",
   "execution_count": null,
   "metadata": {},
   "outputs": [],
   "source": [
    "for i in range(1,10000):\n",
    "    if 13215/i==79 and 13215%i==22:\n",
    "        print(i)"
   ]
  },
  {
   "cell_type": "code",
   "execution_count": null,
   "metadata": {},
   "outputs": [],
   "source": [
    "(13215-22)/79"
   ]
  },
  {
   "cell_type": "code",
   "execution_count": null,
   "metadata": {},
   "outputs": [],
   "source": [
    "3717%31"
   ]
  },
  {
   "cell_type": "code",
   "execution_count": null,
   "metadata": {},
   "outputs": [],
   "source": [
    "3342/12"
   ]
  },
  {
   "cell_type": "code",
   "execution_count": null,
   "metadata": {},
   "outputs": [],
   "source": [
    "3348%12"
   ]
  },
  {
   "cell_type": "code",
   "execution_count": null,
   "metadata": {},
   "outputs": [],
   "source": [
    "class Node"
   ]
  },
  {
   "cell_type": "code",
   "execution_count": null,
   "metadata": {},
   "outputs": [],
   "source": [
    "def gem_num(a:int)->bool:\n",
    "    num_digits=''\n",
    "    while True:\n",
    "        num_digits+=str(a%2)\n",
    "        a=a//2\n",
    "        if a==0:\n",
    "            break\n",
    "    if int(num_digits)==1:\n",
    "        return True\n",
    "    return False\n",
    "gem_num(2)\n",
    "    "
   ]
  },
  {
   "cell_type": "code",
   "execution_count": null,
   "metadata": {},
   "outputs": [],
   "source": [
    "def num_game(dec_num:int)->bool:\n",
    "    num_digits=''\n",
    "    while True:\n",
    "        num_digits+=str(dec_num%2)\n",
    "        dec_num=dec_num//2\n",
    "        if dec_num==0:\n",
    "            break\n",
    "    \n",
    "    if int(num_digits)%3==0:\n",
    "        return True\n",
    "    return False\n",
    "\n",
    "num=str(input())\n",
    "print(num_game(int(num)))\n",
    "        "
   ]
  },
  {
   "cell_type": "code",
   "execution_count": null,
   "metadata": {},
   "outputs": [],
   "source": [
    "# Iterate through the array from index 0 to n-k (inclusive). This will give you all the subarrays of size k.\n",
    "\n",
    "# For each subarray, find the minimum element.\n",
    "\n",
    "# Concatenate these minimum elements to form a number.\n",
    "\n",
    "# Check if the concatenated number is a palindrome, meaning it reads the same forwards and backward.\n",
    "\n",
    "# If the concatenated number is a palindrome, return true; otherwise, return false.\n",
    "\n",
    "\n",
    "def palindrome_min(ar:list,n:int,k:int):\n",
    "    if k ==0 or k==1:\n",
    "        return False\n",
    "    sub_arrays=[]\n",
    "    min_list=''\n",
    "    \n",
    "    for i in range(0,len(ar)):\n",
    "        for j in range(0,k):\n",
    "            sub_arrays[i].append(ar[j])\n",
    "    print(sub_arrays)\n",
    "    for i in len(sub_arrays):\n",
    "        min_list+=str(min(sub_arrays[i]))\n",
    "    print(min_list)\n",
    "    return None\n",
    "\n",
    "palindrome_min(['1','2','0','1','3'],n=5,k=2)\n",
    "            "
   ]
  },
  {
   "cell_type": "code",
   "execution_count": null,
   "metadata": {},
   "outputs": [],
   "source": [
    "def palindrome_min(ar: list, n: int, k: int):\n",
    "    if k == 0 or k == 1:\n",
    "        return False\n",
    "\n",
    "    sub_arrays = []\n",
    "    min_list = ''\n",
    "\n",
    "    for i in range(0, len(ar) - k + 1):\n",
    "        sub_array = []\n",
    "        for j in range(i, i + k):\n",
    "            sub_array.append(ar[j])\n",
    "        sub_arrays.append(sub_array)\n",
    "\n",
    "    print(sub_arrays)\n",
    "\n",
    "    for i in range(len(sub_arrays)):\n",
    "        min_list += str(min(sub_arrays[i]))\n",
    "\n",
    "    print(min_list)\n",
    "    \n",
    "    return min_list==min_list[::-1]\n",
    "    \n",
    "palindrome_min(['1', '2', '0', '1', '3'], n=5, k=2)\n"
   ]
  },
  {
   "cell_type": "code",
   "execution_count": null,
   "metadata": {},
   "outputs": [],
   "source": [
    "a=list('1245223')\n",
    "print(a)\n",
    "a=[int(i) for i in a]\n",
    "print(a)"
   ]
  },
  {
   "cell_type": "code",
   "execution_count": 1,
   "metadata": {},
   "outputs": [
    {
     "data": {
      "text/plain": [
       "4"
      ]
     },
     "execution_count": 1,
     "metadata": {},
     "output_type": "execute_result"
    }
   ],
   "source": [
    "def q2(arr:list):\n",
    "    new_energy=0\n",
    "    min_energy=0\n",
    "    for i in arr:\n",
    "        if min_energy<i:\n",
    "            new_energy=min_energy-(i-min_energy)\n",
    "        elif min_energy>i:\n",
    "            new_energy=min_energy+(min_energy-i)\n",
    "    return abs(new_energy)\n",
    "\n",
    "arr='3 4 3 2 4'\n",
    "aa=[]\n",
    "for i in list(arr):\n",
    "    if i !=' ':\n",
    "        aa.append(int(i))\n",
    "# aa\n",
    "q2(aa)\n",
    "        "
   ]
  },
  {
   "cell_type": "code",
   "execution_count": 14,
   "metadata": {},
   "outputs": [
    {
     "name": "stdout",
     "output_type": "stream",
     "text": [
      "ASD\n",
      "asfdsf\n",
      "asfdsf\n",
      "asfdsf\n",
      "sdf\n",
      "ASD\n",
      "True\n"
     ]
    }
   ],
   "source": [
    "\n",
    "a=True\n",
    "while a:\n",
    "    print(\"ASD\")\n",
    "    break\n",
    "while a==True:\n",
    "    print(\"asfdsf\")\n",
    "    print(\"asfdsf\")\n",
    "    print(\"asfdsf\")\n",
    "    a=False\n",
    "while not a :\n",
    "    print(\"sdf\")\n",
    "    a=None\n",
    "    break\n",
    "while not a:\n",
    "    print(\"ASD\")\n",
    "    break\n",
    "print(None!=False)"
   ]
  },
  {
   "cell_type": "code",
   "execution_count": 17,
   "metadata": {},
   "outputs": [
    {
     "name": "stdout",
     "output_type": "stream",
     "text": [
      "10\n",
      "9\n",
      "8\n",
      "7\n",
      "6\n",
      "5\n",
      "4\n",
      "3\n",
      "2\n",
      "1\n"
     ]
    }
   ],
   "source": [
    "import time\n",
    "a=10\n",
    "while a>0:\n",
    "    print(f\"{a}\")\n",
    "    time.sleep(1)\n",
    "    a-=1"
   ]
  }
 ],
 "metadata": {
  "kernelspec": {
   "display_name": "Python 3",
   "language": "python",
   "name": "python3"
  },
  "language_info": {
   "codemirror_mode": {
    "name": "ipython",
    "version": 3
   },
   "file_extension": ".py",
   "mimetype": "text/x-python",
   "name": "python",
   "nbconvert_exporter": "python",
   "pygments_lexer": "ipython3",
   "version": "3.11.2"
  },
  "orig_nbformat": 4
 },
 "nbformat": 4,
 "nbformat_minor": 2
}
